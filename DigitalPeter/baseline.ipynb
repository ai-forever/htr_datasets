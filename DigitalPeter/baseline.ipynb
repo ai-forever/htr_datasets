{
 "cells": [
  {
   "cell_type": "code",
   "execution_count": 3,
   "metadata": {
    "colab": {},
    "colab_type": "code",
    "id": "WyBpW92f6Ara",
    "scrolled": true
   },
   "outputs": [],
   "source": [
    "import numpy as np\n",
    "import cv2\n",
    "import os\n",
    "import string\n",
    "import matplotlib.pyplot as plt\n",
    "import tqdm\n",
    "from os.path import join\n",
    "from collections import Counter\n",
    "import re \n",
    "import io\n",
    "import copy\n",
    "from tensorflow.keras import layers\n",
    "import editdistance\n",
    "\n",
    "from tensorflow.keras.preprocessing.sequence import pad_sequences\n",
    "from tensorflow.keras import layers\n",
    "\n",
    "from tensorflow.keras.layers import Dense, LSTM,GRU, Reshape, BatchNormalization, Input, Conv2D, MaxPool2D, Lambda, Bidirectional\n",
    "from tensorflow.keras.models import Model\n",
    "from tensorflow.keras.activations import relu, sigmoid, softmax\n",
    "import tensorflow.keras.backend as K\n",
    "from tensorflow.keras.utils import to_categorical\n",
    "from tensorflow.keras.callbacks import ModelCheckpoint"
   ]
  },
  {
   "cell_type": "markdown",
   "metadata": {},
   "source": [
    "Versions."
   ]
  },
  {
   "cell_type": "code",
   "execution_count": 5,
   "metadata": {},
   "outputs": [
    {
     "name": "stdout",
     "output_type": "stream",
     "text": [
      "TensorFlow version: 2.2.0\n",
      "Keras version: 2.4.3\n"
     ]
    }
   ],
   "source": [
    "import keras\n",
    "import tensorflow as tf\n",
    "print('TensorFlow version:', tf.__version__)\n",
    "print('Keras version:', keras.__version__)"
   ]
  },
  {
   "cell_type": "code",
   "execution_count": 8,
   "metadata": {},
   "outputs": [],
   "source": [
    "gpus = tf.config.experimental.list_physical_devices('GPU')\n",
    "if gpus:\n",
    "  # Restrict TensorFlow to only allocate 1GB of memory on the first GPU\n",
    "    tf.config.experimental.set_virtual_device_configuration(\n",
    "        gpus[0],\n",
    "        [tf.config.experimental.VirtualDeviceConfiguration(memory_limit=28000)])\n",
    "    logical_gpus = tf.config.experimental.list_logical_devices('GPU')\n",
    "    #physical_devices = tf.config.list_physical_devices('GPU')\n",
    "    #tf.config.experimental.set_memory_growth(physical_devices[0], True)"
   ]
  },
  {
   "cell_type": "markdown",
   "metadata": {},
   "source": [
    "* CUDA 10.1\n",
    "* cv2 4.3.0\n",
    "* numpy 1.19.2\n",
    "* re 2.2.1\n",
    "* tqdm 4.46.0\n",
    "* matplotlib 3.3.2\n",
    "\n",
    "\n",
    "\n",
    "* Nvidia Tesla V100 32Gb"
   ]
  },
  {
   "cell_type": "markdown",
   "metadata": {
    "colab_type": "text",
    "id": "XYb61RIzE_kW"
   },
   "source": [
    "**Path for images ant labels.**"
   ]
  },
  {
   "cell_type": "code",
   "execution_count": 6,
   "metadata": {},
   "outputs": [
    {
     "name": "stdout",
     "output_type": "stream",
     "text": [
      "9694\n"
     ]
    }
   ],
   "source": [
    "#This foler contains txt files with translation \n",
    "trans_dir = 'data/words'\n",
    "#This folder contains jpg images\n",
    "image_dir = 'data/images'\n",
    "\n",
    "print(len(os.listdir(trans_dir)))"
   ]
  },
  {
   "cell_type": "markdown",
   "metadata": {},
   "source": [
    "Show one image."
   ]
  },
  {
   "cell_type": "code",
   "execution_count": 10,
   "metadata": {},
   "outputs": [],
   "source": [
    "example = os.listdir(image_dir)[0]"
   ]
  },
  {
   "cell_type": "code",
   "execution_count": 11,
   "metadata": {},
   "outputs": [
    {
     "data": {
      "image/png": "[encoded data removed]",
      "text/plain": [
       "<Figure size 432x288 with 1 Axes>"
      ]
     },
     "metadata": {
      "needs_background": "light"
     },
     "output_type": "display_data"
    }
   ],
   "source": [
    "img = plt.imread(image_dir+'/'+example)\n",
    "plt.imshow(img)\n",
    "plt.show()"
   ]
  },
  {
   "cell_type": "markdown",
   "metadata": {},
   "source": [
    "And translation."
   ]
  },
  {
   "cell_type": "code",
   "execution_count": 9,
   "metadata": {
    "scrolled": true
   },
   "outputs": [
    {
     "name": "stdout",
     "output_type": "stream",
     "text": [
      "в тонигъ загналъ какъ росиские войски гдѣ я каман\n"
     ]
    }
   ],
   "source": [
    "with io.open(trans_dir+'/'+example[:-3]+'txt', 'r',  encoding='utf8') as file:\n",
    "    data = file.read()\n",
    "\n",
    "print(data)"
   ]
  },
  {
   "cell_type": "markdown",
   "metadata": {},
   "source": [
    "Peter is a dataset of russian language. But there is some english letter. Here in baseline we drop lines that contains english letters. It allows us to reduce the number of unique symbols. We do it only for train set."
   ]
  },
  {
   "cell_type": "code",
   "execution_count": 14,
   "metadata": {},
   "outputs": [],
   "source": [
    "english = ['a', 'b', 'c', 'd', 'e', 'f', 'g', 'h', 'm', 'n' ,'o', 'p', 'r', 's', 't', 'u', 'w']"
   ]
  },
  {
   "cell_type": "code",
   "execution_count": 15,
   "metadata": {},
   "outputs": [],
   "source": [
    "def text_to_labels(text):\n",
    "    return list(map(lambda x: letters.index(x), text))"
   ]
  },
  {
   "cell_type": "markdown",
   "metadata": {},
   "source": [
    "Here we prepare labels (translated text). Ignore lines with english letters."
   ]
  },
  {
   "cell_type": "code",
   "execution_count": 16,
   "metadata": {},
   "outputs": [],
   "source": [
    "def process_texts(image_dir,trans_dir):\n",
    "    lens = []\n",
    "    include_english = 0\n",
    "    letters = ''\n",
    "\n",
    "    lines = []\n",
    "    names = []\n",
    "    \n",
    "    all_files = os.listdir(trans_dir)\n",
    "    for filename in os.listdir(image_dir):\n",
    "        if filename[:-3]+'txt' in all_files:\n",
    "            name, ext = os.path.splitext(filename)\n",
    "            txt_filepath = join(trans_dir, name + '.txt')\n",
    "            with open(txt_filepath, 'r') as file:\n",
    "                data = file.read()\n",
    "                if len(data)==0:\n",
    "                    continue\n",
    "                if len(set(data).intersection(english))>0:\n",
    "                    continue\n",
    "\n",
    "                lines.append(data)\n",
    "                names.append(filename)\n",
    "                lens.append(len(data))\n",
    "                letters += data\n",
    "    print('Max string length:', max(Counter(lens).keys()))\n",
    "    print('Number of lines with english letters (we drop it) ',include_english)\n",
    "\n",
    "    return names,lines,Counter(letters)"
   ]
  },
  {
   "cell_type": "markdown",
   "metadata": {},
   "source": [
    "So we get list of images (filenames), list of translated lines and the character dictionary."
   ]
  },
  {
   "cell_type": "code",
   "execution_count": 17,
   "metadata": {},
   "outputs": [
    {
     "name": "stdout",
     "output_type": "stream",
     "text": [
      "Max string length: 76\n",
      "Number of lines with english letters (we drop it)  0\n"
     ]
    }
   ],
   "source": [
    "names,lines,cnt = process_texts(image_dir,trans_dir)"
   ]
  },
  {
   "cell_type": "code",
   "execution_count": 18,
   "metadata": {},
   "outputs": [
    {
     "name": "stdout",
     "output_type": "stream",
     "text": [
      "Unique characters in train:   # ( ) + / 0 1 2 3 4 5 6 7 8 9 [ ] i k l | × ǂ а б в г д е ж з и й к л м н о п р с т у ф х ц ч ш щ ъ ы ь э ю я ѣ – ⊕ ⊗\n"
     ]
    }
   ],
   "source": [
    "letters = set(cnt.keys())\n",
    "\n",
    "letters = sorted(list(letters))\n",
    "print('Unique characters in train:', ' '.join(letters))"
   ]
  },
  {
   "cell_type": "markdown",
   "metadata": {},
   "source": [
    "Here we load images, resize and normalize it."
   ]
  },
  {
   "cell_type": "code",
   "execution_count": 19,
   "metadata": {
    "colab": {},
    "colab_type": "code",
    "id": "aXbMbbD5CREV"
   },
   "outputs": [],
   "source": [
    "def process_image(img):\n",
    "    w, h,_ = img.shape\n",
    "    \n",
    "    new_w = 128\n",
    "    new_h = int(h * (new_w / w))\n",
    "    img = cv2.resize(img, (new_h, new_w))\n",
    "    w, h,_ = img.shape\n",
    "    \n",
    "    img = img.astype('float32')\n",
    "    \n",
    "    if w < 128:\n",
    "        add_zeros = np.full((128-w, h,3), 255)\n",
    "        img = np.concatenate((img, add_zeros))\n",
    "        w, h,_ = img.shape\n",
    "    \n",
    "    if h < 1024:\n",
    "        add_zeros = np.full((w, 1024-h,3), 255)\n",
    "        img = np.concatenate((img, add_zeros), axis=1)\n",
    "        w, h,_ = img.shape\n",
    "        \n",
    "    if h > 1024 or w > 128:\n",
    "        dim = (1024,128)\n",
    "        img = cv2.resize(img, dim)\n",
    "    \n",
    "    img = cv2.subtract(255, img)\n",
    "\n",
    "    img = img / 255\n",
    "    \n",
    "    return img"
   ]
  },
  {
   "cell_type": "markdown",
   "metadata": {
    "colab_type": "text",
    "id": "77zmid7KHly9"
   },
   "source": [
    "**Prepare data.**"
   ]
  },
  {
   "cell_type": "code",
   "execution_count": 20,
   "metadata": {},
   "outputs": [],
   "source": [
    "def generate_data(lines,names,image_dir):\n",
    "    data_images = []\n",
    "    data_labels = []\n",
    "    data_input_length = []\n",
    "    data_label_length = []\n",
    "    data_original_text = []\n",
    "    #data_original_image = []\n",
    "    \n",
    "    max_label_len = 0\n",
    "    for line, name in tqdm.tqdm_notebook(zip(lines,names)):\n",
    "        img = cv2.imread(image_dir+'/'+name)\n",
    "        #original_image = copy.deepcopy(img)\n",
    "        img = process_image(img)\n",
    "        try:\n",
    "            label = text_to_labels(line)\n",
    "        except:\n",
    "            print('bad_label')\n",
    "            continue\n",
    "        data_images.append(img)\n",
    "        data_labels.append(label)\n",
    "        data_input_length.append(255)\n",
    "        data_label_length.append(len(line))\n",
    "        data_original_text.append(line)\n",
    "        #data_original_image.append(original_image)\n",
    "        \n",
    "        if len(line) > max_label_len:\n",
    "            max_label_len = len(line)\n",
    "        \n",
    "    return data_images, data_labels, data_input_length, data_label_length, \\\n",
    "            data_original_text, max_label_len"
   ]
  },
  {
   "cell_type": "markdown",
   "metadata": {},
   "source": [
    "Create train set and val set."
   ]
  },
  {
   "cell_type": "code",
   "execution_count": 21,
   "metadata": {},
   "outputs": [],
   "source": [
    "lines_train = []\n",
    "names_train = []\n",
    "\n",
    "lines_val = []\n",
    "names_val = []\n",
    "\n",
    "\n",
    "for num,(line, name) in enumerate(zip(lines,names)):\n",
    "    if num % 15 == 0:\n",
    "        lines_val.append(line)\n",
    "        names_val.append(name)\n",
    "    else:\n",
    "        lines_train.append(line)\n",
    "        names_train.append(name)"
   ]
  },
  {
   "cell_type": "code",
   "execution_count": 22,
   "metadata": {
    "scrolled": true
   },
   "outputs": [
    {
     "name": "stderr",
     "output_type": "stream",
     "text": [
      "/home/user/conda/lib/python3.7/site-packages/ipykernel_launcher.py:10: TqdmDeprecationWarning: This function will be removed in tqdm==5.0.0\n",
      "Please use `tqdm.notebook.tqdm` instead of `tqdm.tqdm_notebook`\n",
      "  # Remove the CWD from sys.path while we load stuff.\n"
     ]
    },
    {
     "data": {
      "application/vnd.jupyter.widget-view+json": {
       "model_id": "a002a2b68d6044f8acaab17a9894a6d7",
       "version_major": 2,
       "version_minor": 0
      },
      "text/plain": [
       "HBox(children=(HTML(value=''), FloatProgress(value=1.0, bar_style='info', layout=Layout(width='20px'), max=1.0…"
      ]
     },
     "metadata": {},
     "output_type": "display_data"
    },
    {
     "name": "stdout",
     "output_type": "stream",
     "text": [
      "\n"
     ]
    }
   ],
   "source": [
    "train_images, train_labels, train_input_length, train_label_length, train_original_text, \\\n",
    "        train_max_label_len = generate_data(lines_train, names_train, image_dir)"
   ]
  },
  {
   "cell_type": "code",
   "execution_count": 23,
   "metadata": {
    "scrolled": true
   },
   "outputs": [
    {
     "name": "stderr",
     "output_type": "stream",
     "text": [
      "/home/user/conda/lib/python3.7/site-packages/ipykernel_launcher.py:10: TqdmDeprecationWarning: This function will be removed in tqdm==5.0.0\n",
      "Please use `tqdm.notebook.tqdm` instead of `tqdm.tqdm_notebook`\n",
      "  # Remove the CWD from sys.path while we load stuff.\n"
     ]
    },
    {
     "data": {
      "application/vnd.jupyter.widget-view+json": {
       "model_id": "8f398a828e8645dd9cb32198f5946d66",
       "version_major": 2,
       "version_minor": 0
      },
      "text/plain": [
       "HBox(children=(HTML(value=''), FloatProgress(value=1.0, bar_style='info', layout=Layout(width='20px'), max=1.0…"
      ]
     },
     "metadata": {},
     "output_type": "display_data"
    },
    {
     "name": "stdout",
     "output_type": "stream",
     "text": [
      "\n"
     ]
    }
   ],
   "source": [
    "val_images, val_labels, val_input_length, val_label_length, val_original_text, \\\n",
    "        val_max_label_len = generate_data(lines_val, names_val, image_dir)"
   ]
  },
  {
   "cell_type": "code",
   "execution_count": 24,
   "metadata": {
    "scrolled": false
   },
   "outputs": [
    {
     "name": "stdout",
     "output_type": "stream",
     "text": [
      "76\n"
     ]
    }
   ],
   "source": [
    "max_label_len = max(train_max_label_len,val_max_label_len)\n",
    "print(max_label_len)"
   ]
  },
  {
   "cell_type": "markdown",
   "metadata": {},
   "source": [
    "A couple of processed images with translation."
   ]
  },
  {
   "cell_type": "code",
   "execution_count": 25,
   "metadata": {},
   "outputs": [
    {
     "name": "stderr",
     "output_type": "stream",
     "text": [
      "Clipping input data to the valid range for imshow with RGB data ([0..1] for floats or [0..255] for integers).\n"
     ]
    },
    {
     "name": "stdout",
     "output_type": "stream",
     "text": [
      "тивом призрѣниi со\n"
     ]
    },
    {
     "data": {
      "image/png": "[encoded data removed]",
      "text/plain": [
       "<Figure size 432x288 with 1 Axes>"
      ]
     },
     "metadata": {
      "needs_background": "light"
     },
     "output_type": "display_data"
    },
    {
     "name": "stderr",
     "output_type": "stream",
     "text": [
      "Clipping input data to the valid range for imshow with RGB data ([0..1] for floats or [0..255] for integers).\n"
     ]
    },
    {
     "name": "stdout",
     "output_type": "stream",
     "text": [
      "ми свинцовыми\n"
     ]
    },
    {
     "data": {
      "image/png": "[encoded data removed]",
      "text/plain": [
       "<Figure size 432x288 with 1 Axes>"
      ]
     },
     "metadata": {
      "needs_background": "light"
     },
     "output_type": "display_data"
    }
   ],
   "source": [
    "rnd = np.random.choice(range(len(train_images)),2)\n",
    "\n",
    "for i in rnd:\n",
    "    print(train_original_text[i])\n",
    "    plt.imshow(train_images[i])\n",
    "    plt.show()"
   ]
  },
  {
   "cell_type": "markdown",
   "metadata": {
    "colab_type": "text",
    "id": "S08OVL07IsRY"
   },
   "source": [
    "**Pad labels to maximun length**"
   ]
  },
  {
   "cell_type": "code",
   "execution_count": 26,
   "metadata": {
    "colab": {},
    "colab_type": "code",
    "id": "CqJP3ZfnCbX5"
   },
   "outputs": [],
   "source": [
    "train_padded_label = pad_sequences(train_labels, \n",
    "                             maxlen=max_label_len, \n",
    "                             padding='post',\n",
    "                             value=len(letters))\n",
    "\n",
    "val_padded_label = pad_sequences(val_labels, \n",
    "                             maxlen=max_label_len, \n",
    "                             padding='post',\n",
    "                             value=len(letters))"
   ]
  },
  {
   "cell_type": "code",
   "execution_count": 27,
   "metadata": {
    "colab": {
     "base_uri": "https://localhost:8080/",
     "height": 34
    },
    "colab_type": "code",
    "id": "rPN6audwCnCO",
    "outputId": "245631e4-ae4f-40ca-d3c6-713cdf2d8fe6",
    "scrolled": true
   },
   "outputs": [
    {
     "data": {
      "text/plain": [
       "((8928, 76), (638, 76))"
      ]
     },
     "execution_count": 27,
     "metadata": {},
     "output_type": "execute_result"
    }
   ],
   "source": [
    "train_padded_label.shape, val_padded_label.shape"
   ]
  },
  {
   "cell_type": "markdown",
   "metadata": {},
   "source": [
    "Takes a lot of time."
   ]
  },
  {
   "cell_type": "code",
   "execution_count": null,
   "metadata": {
    "colab": {},
    "colab_type": "code",
    "id": "AsGyb8qGCoqb"
   },
   "outputs": [],
   "source": [
    "train_images = np.asarray(train_images)\n",
    "train_input_length = np.asarray(train_input_length)\n",
    "train_label_length = np.asarray(train_label_length)\n",
    "\n",
    "val_images = np.asarray(val_images)\n",
    "val_input_length = np.asarray(val_input_length)\n",
    "val_label_length = np.asarray(val_label_length)"
   ]
  },
  {
   "cell_type": "code",
   "execution_count": 36,
   "metadata": {
    "colab": {
     "base_uri": "https://localhost:8080/",
     "height": 34
    },
    "colab_type": "code",
    "id": "ynka_dx2D05g",
    "outputId": "a9528c37-881f-4fda-ad94-73894acc166c"
   },
   "outputs": [
    {
     "data": {
      "text/plain": [
       "(8928, 128, 1024, 3)"
      ]
     },
     "execution_count": 36,
     "metadata": {},
     "output_type": "execute_result"
    }
   ],
   "source": [
    "train_images.shape"
   ]
  },
  {
   "cell_type": "markdown",
   "metadata": {
    "colab_type": "text",
    "id": "1bcjvY3bKFXj"
   },
   "source": [
    "## **Model**"
   ]
  },
  {
   "cell_type": "markdown",
   "metadata": {},
   "source": [
    "The model consists of several CNN, GRU layers and use CTC-Loss."
   ]
  },
  {
   "cell_type": "code",
   "execution_count": 37,
   "metadata": {},
   "outputs": [],
   "source": [
    "inputs = Input(shape=(128,1024,3))\n",
    "\n",
    "conv_1 = Conv2D(64, (3,3), activation = 'relu', padding='same')(inputs)\n",
    "pool_1 = MaxPool2D(pool_size=(4, 2), strides=2)(conv_1)\n",
    "\n",
    "conv_2 = Conv2D(128, (3,3), activation = 'relu', padding='same')(pool_1)\n",
    "pool_2 = MaxPool2D(pool_size=(4, 2), strides=2)(conv_2)\n",
    "\n",
    "conv_3 = Conv2D(256, (3,3), activation = 'relu', padding='same')(pool_2)\n",
    "\n",
    "conv_4 = Conv2D(256, (3,3), activation = 'relu', padding='same')(conv_3)\n",
    "\n",
    "pool_4 = MaxPool2D(pool_size=(4, 1),padding='same')(conv_4)\n",
    "\n",
    "conv_5 = Conv2D(512, (3,3), activation = 'relu', padding='same')(pool_4)\n",
    "\n",
    "batch_norm_5 = BatchNormalization()(conv_5)\n",
    "\n",
    "conv_6 = Conv2D(512, (3,3), activation = 'relu', padding='same')(batch_norm_5)\n",
    "batch_norm_6 = BatchNormalization()(conv_6)\n",
    "pool_6 = MaxPool2D(pool_size=(4, 1),padding='same')(batch_norm_6)\n",
    "\n",
    "conv_7 = Conv2D(512, (2,2), activation = 'relu')(pool_6)\n",
    "\n",
    "squeezed = Lambda(lambda x: K.squeeze(x, 1))(conv_7)\n",
    "\n",
    "blstm_1 = Bidirectional(GRU(256, return_sequences=True, dropout = 0.2))(squeezed)\n",
    "blstm_2 = Bidirectional(GRU(256, return_sequences=True, dropout = 0.2))(blstm_1)\n",
    "\n",
    "outputs = Dense(len(letters)+1, activation = 'softmax')(blstm_2)\n",
    "act_model = Model(inputs=inputs, outputs=outputs)\n",
    "    \n",
    "the_labels = Input(name='the_labels', shape=[max_label_len], dtype='float32')\n",
    "input_length = Input(name='input_length', shape=[1], dtype='int64')\n",
    "label_length = Input(name='label_length', shape=[1], dtype='int64')\n",
    "\n",
    "def ctc_lambda_func(args):\n",
    "    y_pred, labels, input_length, label_length = args\n",
    "\n",
    "    return K.ctc_batch_cost(labels, y_pred, input_length, label_length)\n",
    "\n",
    "loss_out = Lambda(ctc_lambda_func, output_shape=(1,), name='ctc')([outputs, the_labels, input_length, label_length])\n",
    "\n",
    "model = Model(inputs=[inputs, the_labels, input_length, label_length], outputs=loss_out)"
   ]
  },
  {
   "cell_type": "code",
   "execution_count": 38,
   "metadata": {},
   "outputs": [
    {
     "name": "stdout",
     "output_type": "stream",
     "text": [
      "Model: \"model_2\"\n",
      "_________________________________________________________________\n",
      "Layer (type)                 Output Shape              Param #   \n",
      "=================================================================\n",
      "input_2 (InputLayer)         [(None, 128, 1024, 3)]    0         \n",
      "_________________________________________________________________\n",
      "conv2d_7 (Conv2D)            (None, 128, 1024, 64)     1792      \n",
      "_________________________________________________________________\n",
      "max_pooling2d_4 (MaxPooling2 (None, 63, 512, 64)       0         \n",
      "_________________________________________________________________\n",
      "conv2d_8 (Conv2D)            (None, 63, 512, 128)      73856     \n",
      "_________________________________________________________________\n",
      "max_pooling2d_5 (MaxPooling2 (None, 30, 256, 128)      0         \n",
      "_________________________________________________________________\n",
      "conv2d_9 (Conv2D)            (None, 30, 256, 256)      295168    \n",
      "_________________________________________________________________\n",
      "conv2d_10 (Conv2D)           (None, 30, 256, 256)      590080    \n",
      "_________________________________________________________________\n",
      "max_pooling2d_6 (MaxPooling2 (None, 8, 256, 256)       0         \n",
      "_________________________________________________________________\n",
      "conv2d_11 (Conv2D)           (None, 8, 256, 512)       1180160   \n",
      "_________________________________________________________________\n",
      "batch_normalization_2 (Batch (None, 8, 256, 512)       2048      \n",
      "_________________________________________________________________\n",
      "conv2d_12 (Conv2D)           (None, 8, 256, 512)       2359808   \n",
      "_________________________________________________________________\n",
      "batch_normalization_3 (Batch (None, 8, 256, 512)       2048      \n",
      "_________________________________________________________________\n",
      "max_pooling2d_7 (MaxPooling2 (None, 2, 256, 512)       0         \n",
      "_________________________________________________________________\n",
      "conv2d_13 (Conv2D)           (None, 1, 255, 512)       1049088   \n",
      "_________________________________________________________________\n",
      "lambda_1 (Lambda)            (None, 255, 512)          0         \n",
      "_________________________________________________________________\n",
      "bidirectional_2 (Bidirection (None, 255, 512)          1182720   \n",
      "_________________________________________________________________\n",
      "bidirectional_3 (Bidirection (None, 255, 512)          1182720   \n",
      "_________________________________________________________________\n",
      "dense_1 (Dense)              (None, 255, 61)           31293     \n",
      "=================================================================\n",
      "Total params: 7,950,781\n",
      "Trainable params: 7,948,733\n",
      "Non-trainable params: 2,048\n",
      "_________________________________________________________________\n"
     ]
    }
   ],
   "source": [
    "act_model.summary()"
   ]
  },
  {
   "cell_type": "code",
   "execution_count": 39,
   "metadata": {},
   "outputs": [],
   "source": [
    "batch_size = 60\n",
    "epochs = 300\n",
    "\n",
    "from tensorflow.keras.callbacks import EarlyStopping,ReduceLROnPlateau\n",
    "\n",
    "model.compile(loss={'ctc': lambda y_true, y_pred: y_pred}, optimizer = 'adam', metrics=['accuracy'])\n",
    "\n",
    "os.makedirs('checkpoint', exist_ok=True)\n",
    "\n",
    "filepath=\"checkpoint/model.hdf5\""
   ]
  },
  {
   "cell_type": "code",
   "execution_count": 28,
   "metadata": {
    "scrolled": true
   },
   "outputs": [
    {
     "name": "stdout",
     "output_type": "stream",
     "text": [
      "Epoch 1/300\n",
      "\n",
      "Epoch 00001: val_accuracy improved from -inf to 0.00000, saving model to checkpoint/model.hdf5\n",
      "149/149 - 77s - loss: 104.3876 - accuracy: 0.0000e+00 - val_loss: 96.3332 - val_accuracy: 0.0000e+00 - lr: 0.0010\n",
      "Epoch 2/300\n",
      "\n",
      "Epoch 00002: val_accuracy did not improve from 0.00000\n",
      "149/149 - 70s - loss: 89.1907 - accuracy: 0.0000e+00 - val_loss: 95.7020 - val_accuracy: 0.0000e+00 - lr: 0.0010\n",
      "Epoch 3/300\n",
      "\n",
      "Epoch 00003: val_accuracy did not improve from 0.00000\n",
      "149/149 - 71s - loss: 82.0753 - accuracy: 0.0000e+00 - val_loss: 124.4885 - val_accuracy: 0.0000e+00 - lr: 0.0010\n",
      "Epoch 4/300\n",
      "\n",
      "Epoch 00004: val_accuracy did not improve from 0.00000\n",
      "149/149 - 69s - loss: 43.9647 - accuracy: 0.0000e+00 - val_loss: 82.0149 - val_accuracy: 0.0000e+00 - lr: 0.0010\n",
      "Epoch 5/300\n",
      "\n",
      "Epoch 00005: val_accuracy did not improve from 0.00000\n",
      "149/149 - 70s - loss: 20.9432 - accuracy: 0.0021 - val_loss: 32.4083 - val_accuracy: 0.0000e+00 - lr: 0.0010\n",
      "Epoch 6/300\n",
      "\n",
      "Epoch 00006: val_accuracy improved from 0.00000 to 0.01254, saving model to checkpoint/model.hdf5\n",
      "149/149 - 69s - loss: 14.9283 - accuracy: 0.0094 - val_loss: 16.7367 - val_accuracy: 0.0125 - lr: 0.0010\n",
      "Epoch 7/300\n",
      "\n",
      "Epoch 00007: val_accuracy improved from 0.01254 to 0.02194, saving model to checkpoint/model.hdf5\n",
      "149/149 - 70s - loss: 12.1023 - accuracy: 0.0217 - val_loss: 14.8859 - val_accuracy: 0.0219 - lr: 0.0010\n",
      "Epoch 8/300\n",
      "\n",
      "Epoch 00008: val_accuracy improved from 0.02194 to 0.03605, saving model to checkpoint/model.hdf5\n",
      "149/149 - 70s - loss: 10.2147 - accuracy: 0.0310 - val_loss: 12.3754 - val_accuracy: 0.0361 - lr: 0.0010\n",
      "Epoch 9/300\n",
      "\n",
      "Epoch 00009: val_accuracy did not improve from 0.03605\n",
      "149/149 - 70s - loss: 8.7750 - accuracy: 0.0414 - val_loss: 11.4294 - val_accuracy: 0.0345 - lr: 0.0010\n",
      "Epoch 10/300\n",
      "\n",
      "Epoch 00010: val_accuracy improved from 0.03605 to 0.04075, saving model to checkpoint/model.hdf5\n",
      "149/149 - 69s - loss: 7.6014 - accuracy: 0.0534 - val_loss: 10.4927 - val_accuracy: 0.0408 - lr: 0.0010\n",
      "Epoch 11/300\n",
      "\n",
      "Epoch 00011: val_accuracy improved from 0.04075 to 0.06113, saving model to checkpoint/model.hdf5\n",
      "149/149 - 70s - loss: 6.7488 - accuracy: 0.0625 - val_loss: 10.2705 - val_accuracy: 0.0611 - lr: 0.0010\n",
      "Epoch 12/300\n",
      "\n",
      "Epoch 00012: val_accuracy improved from 0.06113 to 0.06897, saving model to checkpoint/model.hdf5\n",
      "149/149 - 69s - loss: 6.0431 - accuracy: 0.0787 - val_loss: 10.7830 - val_accuracy: 0.0690 - lr: 0.0010\n",
      "Epoch 13/300\n",
      "\n",
      "Epoch 00013: val_accuracy improved from 0.06897 to 0.07837, saving model to checkpoint/model.hdf5\n",
      "149/149 - 70s - loss: 5.3598 - accuracy: 0.0997 - val_loss: 10.0072 - val_accuracy: 0.0784 - lr: 0.0010\n",
      "Epoch 14/300\n",
      "\n",
      "Epoch 00014: val_accuracy did not improve from 0.07837\n",
      "149/149 - 69s - loss: 4.8348 - accuracy: 0.1294 - val_loss: 10.5405 - val_accuracy: 0.0674 - lr: 0.0010\n",
      "Epoch 15/300\n",
      "\n",
      "Epoch 00015: val_accuracy did not improve from 0.07837\n",
      "149/149 - 68s - loss: 4.5673 - accuracy: 0.1416 - val_loss: 10.1993 - val_accuracy: 0.0658 - lr: 0.0010\n",
      "Epoch 16/300\n",
      "\n",
      "Epoch 00016: val_accuracy did not improve from 0.07837\n",
      "149/149 - 69s - loss: 4.0955 - accuracy: 0.1748 - val_loss: 10.6662 - val_accuracy: 0.0737 - lr: 0.0010\n",
      "Epoch 17/300\n",
      "\n",
      "Epoch 00017: val_accuracy improved from 0.07837 to 0.09718, saving model to checkpoint/model.hdf5\n",
      "149/149 - 71s - loss: 3.8578 - accuracy: 0.2050 - val_loss: 10.2725 - val_accuracy: 0.0972 - lr: 0.0010\n",
      "Epoch 18/300\n",
      "\n",
      "Epoch 00018: val_accuracy improved from 0.09718 to 0.11912, saving model to checkpoint/model.hdf5\n",
      "149/149 - 70s - loss: 3.5073 - accuracy: 0.2476 - val_loss: 10.5677 - val_accuracy: 0.1191 - lr: 0.0010\n",
      "Epoch 19/300\n",
      "\n",
      "Epoch 00019: val_accuracy improved from 0.11912 to 0.14420, saving model to checkpoint/model.hdf5\n",
      "149/149 - 69s - loss: 2.8024 - accuracy: 0.3693 - val_loss: 10.1999 - val_accuracy: 0.1442 - lr: 7.0000e-04\n",
      "Epoch 20/300\n",
      "\n",
      "Epoch 00020: val_accuracy improved from 0.14420 to 0.15831, saving model to checkpoint/model.hdf5\n",
      "149/149 - 67s - loss: 2.3308 - accuracy: 0.4944 - val_loss: 10.5464 - val_accuracy: 0.1583 - lr: 7.0000e-04\n",
      "Epoch 21/300\n",
      "\n",
      "Epoch 00021: val_accuracy improved from 0.15831 to 0.18652, saving model to checkpoint/model.hdf5\n",
      "149/149 - 69s - loss: 2.1199 - accuracy: 0.5715 - val_loss: 10.8228 - val_accuracy: 0.1865 - lr: 7.0000e-04\n",
      "Epoch 22/300\n",
      "\n",
      "Epoch 00022: val_accuracy did not improve from 0.18652\n",
      "149/149 - 68s - loss: 2.0357 - accuracy: 0.5982 - val_loss: 10.9063 - val_accuracy: 0.1646 - lr: 7.0000e-04\n",
      "Epoch 23/300\n",
      "\n",
      "Epoch 00023: val_accuracy did not improve from 0.18652\n",
      "149/149 - 67s - loss: 2.0971 - accuracy: 0.5846 - val_loss: 11.3419 - val_accuracy: 0.1599 - lr: 7.0000e-04\n",
      "Epoch 24/300\n",
      "\n",
      "Epoch 00024: val_accuracy improved from 0.18652 to 0.19122, saving model to checkpoint/model.hdf5\n",
      "149/149 - 70s - loss: 1.8410 - accuracy: 0.6875 - val_loss: 10.9926 - val_accuracy: 0.1912 - lr: 4.9000e-04\n",
      "Epoch 25/300\n",
      "\n",
      "Epoch 00025: val_accuracy improved from 0.19122 to 0.20063, saving model to checkpoint/model.hdf5\n",
      "149/149 - 69s - loss: 1.6492 - accuracy: 0.7849 - val_loss: 11.4924 - val_accuracy: 0.2006 - lr: 4.9000e-04\n",
      "Epoch 26/300\n",
      "\n",
      "Epoch 00026: val_accuracy did not improve from 0.20063\n",
      "149/149 - 68s - loss: 1.5997 - accuracy: 0.8113 - val_loss: 11.6080 - val_accuracy: 0.1803 - lr: 4.9000e-04\n",
      "Epoch 27/300\n",
      "\n",
      "Epoch 00027: val_accuracy did not improve from 0.20063\n",
      "149/149 - 67s - loss: 1.6060 - accuracy: 0.8129 - val_loss: 11.7693 - val_accuracy: 0.1897 - lr: 4.9000e-04\n",
      "Epoch 28/300\n",
      "\n",
      "Epoch 00028: val_accuracy did not improve from 0.20063\n",
      "149/149 - 69s - loss: 1.5591 - accuracy: 0.8310 - val_loss: 12.1967 - val_accuracy: 0.1803 - lr: 4.9000e-04\n",
      "Epoch 29/300\n",
      "\n",
      "Epoch 00029: val_accuracy did not improve from 0.20063\n",
      "149/149 - 68s - loss: 1.4836 - accuracy: 0.8729 - val_loss: 11.7354 - val_accuracy: 0.2006 - lr: 3.4300e-04\n",
      "Epoch 30/300\n",
      "\n",
      "Epoch 00030: val_accuracy improved from 0.20063 to 0.21473, saving model to checkpoint/model.hdf5\n",
      "149/149 - 71s - loss: 1.4073 - accuracy: 0.9115 - val_loss: 11.9670 - val_accuracy: 0.2147 - lr: 3.4300e-04\n",
      "Epoch 31/300\n",
      "\n",
      "Epoch 00031: val_accuracy did not improve from 0.21473\n",
      "149/149 - 68s - loss: 1.3808 - accuracy: 0.9239 - val_loss: 12.3359 - val_accuracy: 0.2069 - lr: 3.4300e-04\n",
      "Epoch 32/300\n",
      "\n",
      "Epoch 00032: val_accuracy did not improve from 0.21473\n",
      "149/149 - 66s - loss: 1.3714 - accuracy: 0.9239 - val_loss: 12.2297 - val_accuracy: 0.2006 - lr: 3.4300e-04\n",
      "Epoch 33/300\n",
      "\n",
      "Epoch 00033: val_accuracy did not improve from 0.21473\n",
      "149/149 - 66s - loss: 1.3745 - accuracy: 0.9303 - val_loss: 12.2128 - val_accuracy: 0.2100 - lr: 3.4300e-04\n",
      "Epoch 00033: early stopping\n"
     ]
    }
   ],
   "source": [
    "es = EarlyStopping(monitor='val_loss', mode='min', verbose=1, patience=20)\n",
    "reduce_lr = ReduceLROnPlateau(monitor='val_loss', factor=0.7,\n",
    "                              patience=5, min_lr=0.00001)\n",
    "\n",
    "checkpoint = ModelCheckpoint(filepath=filepath, monitor='val_accuracy', verbose=1, save_best_only=True, mode='auto')\n",
    "callbacks_list = [checkpoint,es,reduce_lr]\n",
    "\n",
    "history = model.fit(x=[train_images, train_padded_label, train_input_length, train_label_length],\n",
    "                    y=np.zeros(len(train_images)),\n",
    "                    batch_size=batch_size, \n",
    "                    epochs=epochs, \n",
    "                    validation_data=([val_images, val_padded_label, val_input_length, val_label_length], [np.zeros(len(val_images))]),\n",
    "                    verbose=2,\n",
    "                    callbacks=callbacks_list)\n"
   ]
  },
  {
   "cell_type": "markdown",
   "metadata": {},
   "source": [
    "Look at val metrics."
   ]
  },
  {
   "cell_type": "code",
   "execution_count": 40,
   "metadata": {},
   "outputs": [],
   "source": [
    "import time"
   ]
  },
  {
   "cell_type": "code",
   "execution_count": 41,
   "metadata": {
    "scrolled": true
   },
   "outputs": [
    {
     "name": "stdout",
     "output_type": "stream",
     "text": [
      "5.158626556396484\n"
     ]
    }
   ],
   "source": [
    "start = time.time()\n",
    "act_model.load_weights(filepath)\n",
    "prediction = act_model.predict(val_images)\n",
    "\n",
    "decoded = K.ctc_decode(prediction, \n",
    "                       input_length=np.ones(prediction.shape[0]) * prediction.shape[1],\n",
    "                       greedy=True)[0][0]\n",
    "out = K.get_value(decoded)\n",
    "end = time.time()\n",
    "print(end-start)"
   ]
  },
  {
   "cell_type": "code",
   "execution_count": 42,
   "metadata": {
    "scrolled": true
   },
   "outputs": [
    {
     "name": "stdout",
     "output_type": "stream",
     "text": [
      "Ground truth -> Recognized\n",
      "[ERR:3] \"в тонигъ загналъ какъ росиские войски гдѣ я каман\" -> \"в кониюъ загналъ какъ росиские войски гдѣя каман\"\n",
      "[ERR:4] \"дѣла же оное iмѣет быт по сему перво надлежит\" -> \"дѣла же оное iмѣет бы го сему перлонадлежит\"\n",
      "[OK] \"крѣпости тыся\" -> \"крѣпости тыся\"\n",
      "[OK] \"шал что наши там з голоду поми\" -> \"шал что наши там з голоду поми\"\n",
      "[ERR:1] \"а над ними съ губерниi камисар\" -> \"а надними съ губерниi камисар\"\n",
      "[ERR:3] \"со фъсѣ войском вошел при котором доволное число\" -> \"софъсѣ войском вошел прикотором доволнае число\"\n",
      "[ERR:2] \"буде же ночь то в одном пушечном перестрѣле\" -> \"буде же но чѣ то в одном пушечном перестрѣле\"\n",
      "[ERR:2] \"каз iли камисарам\" -> \"каз iликами сарам\"\n",
      "[ERR:5] \"а нынѣ вкратце пишу что не описаны преiз\" -> \"а нынѣ вкратце пишу что не отиияншу преiз\"\n",
      "[OK] \"учинит] i тѣм лутчюю выгоду\" -> \"учинит] i тѣм лутчюю выгоду\"\n",
      "[ERR:1] \"теля iз вассы выбит буде же крѣпъ\" -> \"теля iз вассы выбит будеже крѣпъ\"\n",
      "[OK] \"ген i отака стралзунта\" -> \"ген i отака стралзунта\"\n",
      "[ERR:4] \"обувей i протъчево\" -> \"обове i проть чево\"\n",
      "[ERR:2] \"толко б мы не лениво бла\" -> \"толкоб мы нелениво бла\"\n",
      "[OK] \"талию не въступил бы при сем\" -> \"талию не въступил бы при сем\"\n",
      "[ERR:1] \"ства i дай нам знат конечно сего дни\" -> \"ства i дайнам знат конечно сего дни\"\n",
      "[ERR:2] \"дебурской помераниi до элбинга а там взяф\" -> \"дебурской помераниi дом элбинга атам взяф\"\n",
      "[ERR:1] \"любимым путем хотя хочетца с тобою\" -> \"любимым путом хотя хочетца с тобою\"\n",
      "[ERR:2] \"сукны не подрежат но покупат у руских\" -> \"сукны не подрежат но покупат урусских\"\n",
      "[ERR:6] \"ца карарбелныя лѣса подрядом а не уѣзноми людм\" -> \"ца карабнныя лѣса подрядом а не уѣзомилюм\"\n",
      "[ERR:7] \"понеже кв от нас в амстрадамѣ + своiм войском\" -> \"понеже к в от нас вам страрамѣ  вом войском\"\n",
      "[ERR:2] \"другое чтоб отнюд с вами телѣгъ не\" -> \"другое чтоб отнюд свами те лѣгъ не\"\n",
      "[ERR:1] \"iтит прямо к абоу\" -> \"iтит прямо кабоу\"\n",
      "[ERR:4] \"на 1 чтоб депутатом в амстердамѣ\" -> \"на 1 чтоб депут татом вам стердамѣ\"\n",
      "[ERR:1] \"дѣемся с помошию божиею также как лифъ\" -> \"дѣемся с помошию божиею также каклифъ\"\n",
      "[OK] \"неси каралефъскому величеству чтоб iз\" -> \"неси каралефъскому величеству чтоб iз\"\n",
      "[OK] \"посылаю копию какову полу\" -> \"посылаю копию какову полу\"\n",
      "[ERR:1] \"а от которых областѣй ожи\" -> \"а от которых областѣй ожа\"\n",
      "[OK] \"городицкой людей прибавит iз тѣхъ кото\" -> \"городицкой людей прибавит iз тѣхъ кото\"\n",
      "[ERR:1] \"ности впред проiзойтит могут на то я тогда\" -> \"ности впред проiзойтит могут на тоя тогда\"\n",
      "[OK] \"тысячь на своей пълатѣ i чтоб\" -> \"тысячь на своей пълатѣ i чтоб\"\n",
      "[ERR:1] \"чтоб толко проводит\" -> \"чтоб толко просодит\"\n",
      "[OK] \"му корпусу позволено было\" -> \"му корпусу позволено было\"\n",
      "[ERR:2] \"чтоб самим наперет притит къ\" -> \"чтоб самим наперет притикъ\"\n",
      "[ERR:2] \"ду наскоро также мы слышим бутто\" -> \"ду на скоро также мы слышим бутт\"\n",
      "[ERR:3] \"чтоб вам iз города вытит но нынѣ\" -> \"чтоб вам iнзгородавытит но нынѣ\"\n",
      "[ERR:3] \"возмущению быт i при том конечно\" -> \"возмущонию быт i при i том конечно\"\n",
      "[ERR:3] \"+ николи не бывало хо\" -> \"+ николинебы вало хо\"\n",
      "[OK] \"ц в учинили а особли\" -> \"ц в учинили а особли\"\n",
      "[ERR:2] \"i понеже междо оными толко два\" -> \"i по неже междо оными толко дова\"\n",
      "[ERR:1] \"жай до петербурха [куда дай боже скоро быт\" -> \"жай до петербурха [куда дай боже скоробыт\"\n",
      "[ERR:1] \"близ мѣсеца как на почте поѣхали\" -> \"близ мѣсецаы как на почте поѣхали\"\n",
      "[ERR:7] \"а въ мѣ а понеже сия переселка времени тре\" -> \"а вѣмѣ а понеже сей я переселка време нитре\"\n",
      "[ERR:2] \"чин капитана камандера толко в сем\" -> \"чин капита на камандера толко всем\"\n",
      "[ERR:1] \"секая кореспонденцию остаюсь\" -> \"секая кореспонденчию остаюсь\"\n",
      "[ERR:3] \"фелтъмаршала ш i стат гдѣ он прикажет\" -> \"фелтъмаршалаш i стат гдѣ ови прикажет\"\n",
      "[OK] \"х которому указ [ныне въ небытиi ко\" -> \"х которому указ [ныне въ небытиi ко\"\n",
      "[ERR:1] \"вѣдения пути чи\" -> \"вѣдения путичи\"\n",
      "[ERR:2] \"ской i так малодою невѣскою вам поздра\" -> \"ской i так малодою не воскою вам поздра\"\n",
      "[ERR:6] \"ко не чаю чтоб здѣлалас аднакож буде i не здѣлаетца у\" -> \"конеч1ю чиоб з дѣлалас аднакож буде i нездѣлаетца у\"\n",
      "[OK] \"му] которых богом i iнтересам просили\" -> \"му] которых богом i iнтересам просили\"\n",
      "[ERR:5] \"ему i господину михайлу шере\" -> \"ему i гуспъдилу ми хайлушере\"\n",
      "[ERR:4] \"но не могли также паче всѣх тѣх мѣс\" -> \"но неможли так же паче всѣх тѣхг мѣс\"\n",
      "[ERR:4] \"в чем засвидѣтелствуем\" -> \"в сем за с видѣтелстеуем\"\n",
      "[OK] \"скъ наших iз полши о том обявъляю что\" -> \"скъ наших iз полши о том обявъляю что\"\n",
      "[ERR:1] \"в конце мая i все престороги учинили\" -> \"в концемая i все престороги учинили\"\n",
      "[OK] \"что дѣйствоват в обшую\" -> \"что дѣйствоват в обшую\"\n",
      "[ERR:1] \"въ 42 года не была аднакож подож\" -> \"въ 4 2 года не была аднакож подож\"\n",
      "[ERR:3] \"со фъсею силолою сухопутною обратитца\" -> \"софъсею силорою сухепутною обратитца\"\n",
      "[ERR:3] \"неотмѣнно в ыстинной дружбѣ пре\" -> \"не отмѣнно выстинной дружбъ пре\"\n",
      "[ERR:2] \"чтоб мнѣ мое писмо поттвердит\" -> \"счтоб мнѣ мое писмо поттведит\"\n",
      "[ERR:3] \"аднакож оныя х кривицу маршироват\" -> \"аднакож оныя х кривицумарши мват\"\n",
      "[OK] \"для турецкого дѣла i что\" -> \"для турецкого дѣла i что\"\n",
      "[OK] \"ряя ко оному провадит\" -> \"ряя ко оному провадит\"\n",
      "[ERR:7] \"ною ж вар анкартоу съ якарем i на том\" -> \"ною жвар анкарто усъ я карем i каком\"\n",
      "[ERR:6] \"ятел зетировался в угол к местечку iмерек\" -> \"ятел зетировался вуголк местечку iбмик\"\n",
      "[ERR:3] \"губернатороф iмѣт лантър лантъратофъ\" -> \"губернатороф i мѣт лонтърлантъратофъ\"\n",
      "[OK] \"ту а мы вам пришлем гдѣ стат\" -> \"ту а мы вам пришлем гдѣ стат\"\n",
      "[ERR:3] \"неслуживым пока реше\" -> \"не служивым по кареше\"\n",
      "[OK] \"ленска стоiт готофъ i iмѣ\" -> \"ленска стоiт готофъ i iмѣ\"\n",
      "[OK] \"7\" -> \"7\"\n",
      "[ERR:4] \"ля отдѣлатца i ѣхат] на другое писмо отвѣтствую\" -> \"ля от дѣлатца iѣхат ] на другое писмо отвѣтстую\"\n",
      "[OK] \"а потом бомбордиро\" -> \"а потом бомбордиро\"\n",
      "[ERR:4] \"i чаю завътра туды поспѣт плате i\" -> \"i чаю завъ тратуды поспѣт плат еi\"\n",
      "[OK] \"ратца было невозможно\" -> \"ратца было невозможно\"\n",
      "[OK] \"крѣпость аднакож та\" -> \"крѣпость аднакож та\"\n",
      "[ERR:2] \"му потребно вспомогай также в намоще\" -> \"му потребно вспомогай также в на моше\"\n",
      "[OK] \"1\" -> \"1\"\n",
      "[ERR:2] \"статы то проси дабы без вся\" -> \"статы то проси дабы беззбся\"\n",
      "[OK] \"дѣлат\" -> \"дѣлат\"\n",
      "[ERR:1] \"давълеет а оную линѣ\" -> \"давълеет а оною линѣ\"\n",
      "[OK] \"вой полой водѣ отправит сюды\" -> \"вой полой водѣ отправит сюды\"\n",
      "[OK] \"реки здешней\" -> \"реки здешней\"\n",
      "[ERR:3] \"то конечно подай\" -> \"токонечно пдар\"\n",
      "[ERR:1] \"⊕ понеже непъриятел\" -> \"о понеже непъриятел\"\n",
      "[ERR:2] \"богу со въсѣми судами дошли близ новой\" -> \"богу совъсѣми судами дошли близновой\"\n",
      "[OK] \"прис\" -> \"прис\"\n",
      "[ERR:51] \"(+ i заведчи дат торговым людем собрафъ кумпанию буде\" -> \"( \"\n",
      "[ERR:1] \"поставим а людей\" -> \"посавим а людей\"\n",
      "[ERR:4] \"впрѣд ⊕\" -> \"врудсю\"\n",
      "[ERR:3] \"ская пословица тюсхенъ дун\" -> \"ская пословицатю схенъ дут\"\n",
      "[OK] \"ликую\" -> \"ликую\"\n",
      "[OK] \"готовъленинем чтоб с помощию\" -> \"готовъленинем чтоб с помощию\"\n",
      "[ERR:1] \"i драгунам когда приѣдет к вам\" -> \"i драгу нам когда приѣдет к вам\"\n",
      "[ERR:1] \"понеже зело случай требует\" -> \"онеже зело случай требует\"\n",
      "[ERR:4] \"зоноф не вывадит\" -> \"зоу невывадит\"\n",
      "[ERR:1] \"також i фълот нашъ слава богу множитца уже\" -> \"також i фълот нашъ слава богу множитца уж\"\n",
      "[ERR:2] \"зат за корабль флейтъ i другую пару\" -> \"зат за кораблѣ флейтъ i другую паро\"\n",
      "[OK] \"квартиры главъному войску розписат\" -> \"квартиры главъному войску розписат\"\n",
      "[ERR:40] \"+ которых просим в походѣ iх когда за стер\" -> \" к\"\n",
      "[OK] \"лодых взят в службу прямых подячих в пи\" -> \"лодых взят в службу прямых подячих в пи\"\n",
      "[OK] \"будут\" -> \"будут\"\n",
      "[OK] \"+\" -> \"+\"\n",
      "[OK] \"понеже салдаты чаю сим мар\" -> \"понеже салдаты чаю сим мар\"\n",
      "[OK] \"то с однѣм благодарением\" -> \"то с однѣм благодарением\"\n",
      "[ERR:1] \"господин +\" -> \"гусподин +\"\n",
      "[ERR:4] \"винкелгакъ i делфин починит совершенно поне\" -> \"винкелгакъ i делфин принит совершенло по не\"\n",
      "[ERR:36] \"а каково опъределение учинено о страл\" -> \"(+ \"\n",
      "[OK] \"такъ блиско что не дастъ дѣлат выше\" -> \"такъ блиско что не дастъ дѣлат выше\"\n",
      "[ERR:2] \"переѣхат на остроф руген а с сухова\" -> \"перегхат на остроф руген а ссухова\"\n",
      "[ERR:4] \"элбинга полки пойдут вскорѣ отсель к вам взятых стари\" -> \"длбинга полки пойдут вскорѣ от сельы вам взятых стари\"\n",
      "[ERR:10] \"i онѣ равъною жъ стрелбою отвѣтствовали а вым\" -> \"i онѣ равоною жъстрел огъ отвѣ с твовалиавам\"\n",
      "[ERR:2] \"дели оной на также на 12 частей [как i у га\" -> \"дели оной на также нам 12 частей [как i уга\"\n",
      "[OK] \"дат о здѣшем i что надлежит к пред\" -> \"дат о здѣшем i что надлежит к пред\"\n",
      "[ERR:1] \"iнова писат не iмѣю толко что мы слава\" -> \"iнова писат не iмѣю чтолко что мы слава\"\n",
      "[ERR:1] \"се а за то б обязался в полшу шведаф никали\" -> \"се а за тоб обязался в полшу шведаф никали\"\n",
      "[ERR:2] \"еше пят а по нужде три чтоб ежели невозмож\" -> \"ешепят а понужде три чтоб ежели невозмож\"\n",
      "[ERR:3] \"дѣйствително с на\" -> \"дѣйствително ша\"\n",
      "[ERR:3] \"те каралю i какъ возможно дѣлайте гдѣ\" -> \"те каралю i какъ возможно дѣлай тне гдо\"\n",
      "[OK] \"понеже здѣшние господа\" -> \"понеже здѣшние господа\"\n",
      "[ERR:8] \"[i почат оное сего же лѣта]\" -> \"[почат оносегожечѣти]\"\n",
      "[OK] \"2\" -> \"2\"\n",
      "[ERR:2] \"выведены\" -> \"въiведены\"\n",
      "[ERR:3] \"[+ а ежели к в iзволит\" -> \"[а е жели к в iзволит\"\n",
      "[OK] \"петръ\" -> \"петръ\"\n",
      "[ERR:2] \"резыват пут скамповѣем\" -> \"резыват путскамповнем\"\n",
      "[ERR:3] \"⊗ [около сих мѣстъ [на половин\" -> \"⊕ [о коло сих мѣстъ [на половинѣ\"\n",
      "[ERR:2] \"на москвѣ\" -> \"ни москвы\"\n",
      "[ERR:3] \"литца то аглинским ежели силно принуждат будут\" -> \"литца то аглински ежели силно принуж дат будун\"\n",
      "[ERR:1] \"хотѣл сегодни отвѣтствоват но для напа\" -> \"хотѣл сего дни отвѣтствоват но для напа\"\n",
      "[ERR:6] \"ды пристали всѣ къ элзенфорсу + что\" -> \"ды пристали всѣ ксъ элзенфорсчь о\"\n",
      "[OK] \"обявъляем что драгуны i казаки\" -> \"обявъляем что драгуны i казаки\"\n",
      "[ERR:2] \"то разумѣетца сей же доноситель\" -> \"торазумѣетца сей же доносителе\"\n",
      "[ERR:2] \"давано\" -> \"пцдавано\"\n",
      "[ERR:2] \"понеже я с великим удивъ\" -> \"понежея с великим уди въ\"\n",
      "[OK] \"яко преслушникоф нашего указу i какоф\" -> \"яко преслушникоф нашего указу i какоф\"\n",
      "[ERR:7] \"анкартоу гинсофъ за оною привезат\" -> \"аснскорку угинсофъза оною привезат\"\n",
      "[ERR:1] \"д силу iмѣет при кото\" -> \"д силу iмѣет прикото\"\n",
      "[ERR:3] \"рѣ гдѣ выподает река мста iли до\" -> \"рѣгдѣ вы подает рекамста iли до\"\n",
      "[ERR:2] \"что мнѣ честно i чисто нелѣносно но паче ревъностно\" -> \"что мнѣчестно i чисто нелѣносно но пачеревъностно\"\n",
      "[ERR:1] \"оставит нужное число i тѣх коi старее а мо\" -> \"оставит нужное число i нѣх коi старее а мо\"\n",
      "[ERR:7] \"ложению\" -> \"+ \"\n",
      "[ERR:3] \"сал ты к нам что отпустил камелного мас\" -> \"салты к нам что отпустилка мелного мас\"\n",
      "[OK] \"для того заранее сие пред\" -> \"для того заранее сие пред\"\n",
      "[OK] \"явълениi цесарского минис\" -> \"явълениi цесарского минис\"\n",
      "[OK] \"маршъ\" -> \"маршъ\"\n",
      "[ERR:2] \"iзвѣщение о караблях обрѣтающихся\" -> \"iзвѣщение о караблях обрѣтающих са\"\n",
      "[ERR:1] \"iз питербурха въ 5 д ген петръ\" -> \"iз питербурха въ 8 д ген петръ\"\n",
      "[ERR:5] \"провианту было попо конѣ\" -> \"прови анруу было по по к онѣ\"\n",
      "[ERR:2] \"ско в шону буде же к в iзволит прис\" -> \"скко вшону буде же к в iзволит прис\"\n",
      "[ERR:1] \"сына моего совершилас на которой\" -> \"сына моего совершиласна которой\"\n",
      "[ERR:3] \"въ такой нечаемой отмѣнѣ же\" -> \"въ такой нечечемой отмѣнѣже\"\n",
      "[ERR:3] \"прошедшею с турки неча\" -> \"прошедшею сторкинеча\"\n",
      "[OK] \"права i усилевот посты дабы в нужном\" -> \"права i усилевот посты дабы в нужном\"\n",
      "[ERR:2] \"на луг уйтит нѣкоторыя\" -> \"насуг уйтит нѣкоторыя\"\n",
      "[ERR:3] \"катеринушка друг мой здравъствуй\" -> \"катеринушка дромой здравъствуй\"\n",
      "[ERR:6] \"i облехчит в чем пристойно дабы тѣм подат охоту для болшева iх\" -> \"i облечит в сем пристойно дабы тѣм подат охоту для боневвiх\"\n",
      "[OK] \"зом что учинят\" -> \"зом что учинят\"\n",
      "[ERR:4] \"вице адмирал шветской лили съ 8ю караб\" -> \"вице адмирал швет ской линибъ 8ю караб\"\n",
      "[ERR:1] \"ятелем поiску аднако ж того смотрѣт\" -> \"ятелем поiску аднакож того смотрѣт\"\n",
      "[OK] \"бытия не дават главъ\" -> \"бытия не дават главъ\"\n",
      "[ERR:1] \"волство показат ч\" -> \"волство показат ѣ\"\n",
      "[OK] \"дет\" -> \"дет\"\n",
      "[ERR:3] \"лит опасна + нападения\" -> \"лит опасна днападени я\"\n",
      "[OK] \"не должны служит\" -> \"не должны служит\"\n",
      "[ERR:1] \"по въсегдашнему своему обы\" -> \"повъсегдашнему своему обы\"\n",
      "[OK] \"непъриятеля\" -> \"непъриятеля\"\n",
      "[OK] \"для того что еше\" -> \"для того что еше\"\n",
      "[OK] \"щание непъраведно\" -> \"щание непъраведно\"\n",
      "[ERR:3] \"+ i пъравъда л так силен что сам ште\" -> \"+ iпъравъ дал так силен что сам ште\"\n",
      "[ERR:2] \"билис мы iнаго с помощию\" -> \"билисмы i наго с помощию\"\n",
      "[ERR:2] \"тиллери отпиши гдѣ она i скоро л будет к вам\" -> \"тиллери отпиши гдѣ онаi скорол будет к вам\"\n",
      "[OK] \"iз торгоу въ 14 д сентебря петръ\" -> \"iз торгоу въ 14 д сентебря петръ\"\n",
      "[ERR:1] \"обор\" -> \"обоур\"\n",
      "[ERR:3] \"лѣднея нынешнея моя от\" -> \"лѣднеяны не шнея моя от\"\n",
      "[ERR:2] \"кофъ там не задержали которыя раз\" -> \"кофъ там не задержали которы яраз\"\n",
      "[ERR:2] \"також магазеiны готовит болшей в лифляндах\" -> \"також магазеiныготовит болшей в лифландах\"\n",
      "[ERR:4] \"тел нынѣ стаял сие кладетца\" -> \"тол ны нѣстатял сие кладетца\"\n",
      "[ERR:2] \"не отдалятца горазда дабы\" -> \"не отдалятца го разда дабоы\"\n",
      "[ERR:2] \"не дат\" -> \"недит\"\n",
      "[ERR:2] \"нату переведены бу\" -> \"наету переведоны бу\"\n",
      "[ERR:6] \"1 тавърофскую крѣпость от низкого мѣста укрѣпит\" -> \"+ ти върофскую крѣ поть от низ кого мѣста укрѣпит\"\n",
      "[ERR:1] \"вручен а генерал репъ\" -> \"вручет а генерал репъ\"\n",
      "[ERR:1] \"я вѣтры будут опасно берегите\" -> \"я вѣры будут опасно берегите\"\n",
      "[ERR:8] \"пости дабы взят провиантъ i пъротчее\" -> \"пости дабы взят провлантыпърат че\"\n",
      "[ERR:2] \"пъриятели болшими караблями сво\" -> \"пъриятели босшими карабля ми сво\"\n",
      "[ERR:1] \"товит работником припасы\" -> \"товит работ ником припасы\"\n",
      "[OK] \"2\" -> \"2\"\n",
      "[ERR:3] \"но i запасы целы також i iх починит мочно\" -> \"но i запасыцелы також iх iх починит моно\"\n",
      "[ERR:9] \"прамы дѣлат i блокшхипен дѣлат половину в полотску\" -> \"i прамы гѣла i блокшиинендѣлат половину в полоткуч\"\n",
      "[OK] \"понадобитца аднакож\" -> \"понадобитца аднакож\"\n",
      "[ERR:7] \"+ к острову\" -> \"у ноте робу\"\n",
      "[ERR:3] \"(+ i что вам дожидатца л беркъголцовой рабо\" -> \"(+ i что вам дожида цал беркъ голцовой рабо\"\n",
      "[OK] \"остроф риген чтоб оной сея зимы\" -> \"остроф риген чтоб оной сея зимы\"\n",
      "[ERR:5] \"ли мы вѣдомость что партия на\" -> \"ли мы вѣдомость что пар i няна\"\n",
      "[OK] \"в полше аднакож в сентебрѣ\" -> \"в полше аднакож в сентебрѣ\"\n",
      "[ERR:1] \"медвѣдя в одной берлуге не уживутца\" -> \"медвѣдя в одной берлугене уживутца\"\n",
      "[ERR:2] \"в чем клянуся пед нынѣ\" -> \"в чем клянуся пѣднынѣ\"\n",
      "[ERR:3] \"слава богу все здѣсь добро пово\" -> \"слава богу все здѣсъ добропове\"\n",
      "[ERR:1] \"ся получил а въ городѣ не отказываем нынешнего\" -> \"ся получил а въ городѣ не отказывоем нынешнего\"\n",
      "[ERR:1] \"в книгу а старай вырезаф притом же\" -> \"в книгу а старай вырезаф при том же\"\n",
      "[ERR:2] \"послѣднее будет горше первово\" -> \"послѣднее будет горшеперово\"\n",
      "[ERR:2] \"5 ю днями уже постъ крѣпъкой\" -> \"5ю днями уже постъ крѣпълой\"\n",
      "[ERR:3] \"к вам i велѣно iм дойтит до перепъравы а оттол\" -> \"к вам i велѣно iм фдойтит до перепъравыа от тол\"\n",
      "[ERR:4] \"я протиф элзенфорса стат на якор к сюйдной сто\" -> \"я протиф элзенфорса статная корк сюйдной сто\"\n",
      "[OK] \"дѣла дѣла наши как здѣс\" -> \"дѣла дѣла наши как здѣс\"\n",
      "[ERR:2] \"карабли уже в лутчею степен у нас при\" -> \"карабли уже влутчею с тепен у нас при\"\n",
      "[ERR:3] \"уступит [о котором шведы уже явъно\" -> \"уступит [окотором шведы уже я въ но\"\n",
      "[ERR:1] \"хотной в марте мѣсеце i для того сею зи\" -> \"хонной в марте мѣсеце i для того сею зи\"\n",
      "[ERR:1] \"лат тотчах указ чтоб шли карабли кото\" -> \"лат тотчах указ чтоб шли карабликото\"\n",
      "[ERR:7] \"ѣхат в новъгородской уѣздъ в то мѣсто гдѣ\" -> \"ѣхат в но въ городкой уѣздъ в томѣ стогдо\"\n",
      "[ERR:3] \"о бамбардироване я к вам писал дважды\" -> \"о вам бардироване я к вам писал двады\"\n",
      "[ERR:5] \"четырех i шти футоф длины добро\" -> \"четыбреж i штирутоф длины доро\"\n",
      "[ERR:1] \"5 4\" -> \"5 +\"\n",
      "[ERR:5] \"меiн фринтъ писмо от вас въ вчера\" -> \"шеунфринтъ писло от вас въ вера\"\n",
      "[ERR:2] \"что отвѣтствоват iбо уже о сей ма\" -> \"то отвѣтсвоват iбо уже о сей ма\"\n",
      "[ERR:2] \"сеце писем не получим то в первых чис\" -> \"сеце пи сем ре получим то в первых чис\"\n",
      "[ERR:1] \"того что был мир i не хотѣли дат\" -> \"того что был мир i нехотѣли дат\"\n",
      "[ERR:2] \"но i тѣ вексели что от се\" -> \"но iтѣ векрели что от се\"\n",
      "[ERR:3] \"нашими соб людми упъралятца\" -> \"нашими собдд люми упъралятца\"\n",
      "[ERR:5] \"а жених и третево дни виделся\" -> \"ажених се трет еводни виделся\"\n",
      "[ERR:1] \"1719\" -> \"1711\"\n",
      "[OK] \"6\" -> \"6\"\n",
      "[ERR:8] \"i былъ у кораля а въчерас он поутру былъ у меня\" -> \"iбыилю укораля а въчерас онпоутрубылну меня\"\n",
      "[ERR:1] \"заран сказана было i чтоб\" -> \"заран сказа на было i чтоб\"\n",
      "[ERR:6] \"коф с собою] також i самое то мѣсто тве\" -> \"кофскобою] також i самое томѣ сто тво\"\n",
      "[ERR:1] \"бдет\" -> \"бде\"\n",
      "[ERR:3] \"а горѣлыя клѣтки полском черес под своiм\" -> \"а горѣлыя к лѣнки полском серес под своiм\"\n",
      "[ERR:2] \"рубят лѣса на скомповѣi i опъредѣлит чтоб ко\" -> \"рубят лѣса на ском повѣi i опъредолит чтоб ко\"\n",
      "[ERR:2] \"нию короны шведской князю iх то мочно iм обѣщат\" -> \"нию короны шведской к незю iх то мочно iм обѣщат\"\n",
      "[ERR:1] \"а служителей сколко\" -> \"а служитеяей сколко\"\n",
      "[ERR:2] \"та таго ради силою i по силѣ сего обна\" -> \"та тагоради силою i посилѣ сего обна\"\n",
      "[ERR:2] \"гантин i грузит оною алтиллерию зимою во оныя\" -> \"гантис i грузит оною а лтиллерию зимою во оныя\"\n",
      "[ERR:5] \"тит iскат другова\" -> \"тит i ск тдругопе\"\n",
      "[ERR:3] \"для лечения i ежели богъ iзволит\" -> \"дяялечения i ежели богь iзволит\"\n",
      "[ERR:1] \"ю чтоб одному королю обявит\" -> \"ю чтоб одному корояю обявит\"\n",
      "[ERR:3] \"увидит что iх выше ево силы тотчас\" -> \"увидит что iх вышеево силы тотча н\"\n",
      "[OK] \"фири iли на башню для сего учения\" -> \"фири iли на башню для сего учения\"\n",
      "[ERR:4] \"ном затонѣ i самарѣ такъ\" -> \"ном за томѣ i самалѣ такю\"\n",
      "[ERR:4] \"чего оноя учинена] поне того) iбо\" -> \"чего оноя учине нам] понетогор iбо\"\n",
      "[OK] \"тикулярного дѣла\" -> \"тикулярного дѣла\"\n",
      "[ERR:2] \"i высядши на землю\" -> \"i высядшиназемлю\"\n",
      "[OK] \"верефки i парусы каковы есть i запасных\" -> \"верефки i парусы каковы есть i запасных\"\n",
      "[ERR:1] \"нанят голанцофъ\" -> \"накят голанцофъ\"\n",
      "[ERR:3] \"лѣни руже положили\" -> \"лѣнирѣже положиля\"\n",
      "[ERR:2] \"всегда iмѣя фут па\" -> \"всегда iмѣя фунпа\"\n",
      "[OK] \"ду то скоро паки богу iзволшу к вам\" -> \"ду то скоро паки богу iзволшу к вам\"\n",
      "[ERR:1] \"женскому колѣну свой оному послѣднему в родѣ\" -> \"жетскому колѣну свой оному послѣднему в родѣ\"\n",
      "[ERR:2] \"г ш ѣхат [мѣсто iмерек] i понеже вы\" -> \"гшѣхат [мѣсто iмерек] i понеже вы\"\n",
      "[OK] \"все б за нами осталас +\" -> \"все б за нами осталас +\"\n",
      "[ERR:1] \"лакоф переменит i держат iх пока великой\" -> \"лакоф переменит i держа iх пока великой\"\n",
      "[ERR:6] \"сем мѣстъ а iменно каломак хухры луки\" -> \"сем мѣсть а сменно ксало мак хухры я уки\"\n",
      "[ERR:1] \"в полдни полночь дабы непъриятел не зналъ въ\" -> \"в полдни полночь дабы непъриятел незналъ въ\"\n",
      "[ERR:2] \"iбо прика не точию хо\" -> \"iбо приса не точиюхо\"\n",
      "[OK] \"не обрѣтаетца то оною амуницию пос\" -> \"не обрѣтаетца то оною амуницию пос\"\n",
      "[ERR:1] \"ли онее\" -> \"лионее\"\n",
      "[ERR:7] \"пушек 24–i–18 фунтовых – 40\" -> \"гушек 2 4 i8 фунтовых л40\"\n",
      "[ERR:5] \"тите о забавах i тово нет у нас поне\" -> \"тите о забеевах i товоне у нас по не\"\n",
      "[OK] \"понеже\" -> \"понеже\"\n",
      "[ERR:2] \"того ради возможно пот сей час один дат\" -> \"того ради возможно потсей час оддин дат\"\n",
      "[OK] \"3\" -> \"3\"\n",
      "[OK] \"зу аднакож до тѣх мѣстъ\" -> \"зу аднакож до тѣх мѣстъ\"\n",
      "[ERR:4] \"ли въ 26 д прошлаго мѣсеца гдѣ равъно азофско\" -> \"ли въ 2 6 прошлагомѣсеца гдъ равъно азофско\"\n",
      "[ERR:3] \"не iмѣю от тебя о том междо тѣм слышу\" -> \"не iмѣю оттебя о том меж дотѣм слышу\"\n",
      "[ERR:1] \"ссоры чего онѣ iщут\" -> \"ссоры чего онѣiщут\"\n",
      "[ERR:3] \"госпадина ная смотря по дѣлу\" -> \"господинания смотря по дѣлу\"\n",
      "[ERR:4] \"ремени когда оберетца от бом\" -> \"ремнни когда беретца обом\"\n",
      "[ERR:3] \"роны по десяти вѣрстъ въверхъ\" -> \"роны подесяти верстъ въ верхъ\"\n",
      "[OK] \"обявъляю вам что мы слава богу въ 5 д сего\" -> \"обявъляю вам что мы слава богу въ 5 д сего\"\n",
      "[ERR:5] \"в слутску въ 17 д марта 1711\" -> \"в слутскувв 17 д марая711\"\n",
      "[ERR:1] \"но которой листъ перепъравя вклеiли\" -> \"но которойлистъ перепъравя вклеiли\"\n",
      "[OK] \"как вы сами пишете\" -> \"как вы сами пишете\"\n",
      "[ERR:1] \"ца куды конюнктуры поворотятца\" -> \"ца куды коню нктуры поворотятца\"\n",
      "[ERR:1] \"до устья реки а которая\" -> \"до устья рекиа которая\"\n",
      "[ERR:2] \"пъриятеля i крѣпос\" -> \"пъриятеля i клѣпой\"\n",
      "[OK] \"а наiпаче когда турки увѣдаю о каком\" -> \"а наiпаче когда турки увѣдаю о каком\"\n",
      "[ERR:1] \"невозможно] i стал iс пушек стрелят\" -> \"невозможно] i стал iспушек стрелят\"\n",
      "[ERR:4] \"но не будет хотя б i здурилис то б також\" -> \"но не будет хотя б iздурилистоб такорж\"\n",
      "[OK] \"е\" -> \"е\"\n",
      "[ERR:1] \"iзправитца тогда мы всѣми силами о\" -> \"iз правитца тогда мы всѣми силами о\"\n",
      "[ERR:2] \"ралнаго мира по котором чаю не без\" -> \"ралнагомира по котаром чаю не без\"\n",
      "[ERR:4] \"твы обѣiх iменем моiм обнадежит\" -> \"ттвы обѣ iх iменем моiм обнаджи\"\n",
      "[ERR:1] \"также чрез партикулярныя писма есть вѣдомость\" -> \"также чрез партинулярныя писма есть вѣдомость\"\n",
      "[ERR:2] \"держат аднакож бог вѣсть\" -> \"держат аднакож богвѣстъ\"\n",
      "[ERR:3] \"писмо ваше купно з жестоким отказазом\" -> \"писмоваше купно о жестоским отказазом\"\n",
      "[OK] \"скляеф басъ\" -> \"скляеф басъ\"\n",
      "[ERR:2] \"онѣ возмут то б для лутчей iх ласки полными\" -> \"онѣ возмут тоб дл я лутчей iх ласки полными\"\n",
      "[ERR:10] \"то б упъравълялъ дѣла къ возможно\" -> \"тобу поневълялъ дѣлакъ возми нно\"\n",
      "[OK] \"ли оной сенат iли хто\" -> \"ли оной сенат iли хто\"\n",
      "[ERR:2] \"ли i разпорядили\" -> \"ли i разгорадили\"\n",
      "[ERR:1] \"ты будут аднакож поѣжайте в мо\" -> \"ты будут аднакос поѣжайте в мо\"\n",
      "[ERR:8] \"ва i по три i въ розныя часы то сть поутру въвечеру\" -> \"ва i потри i върозныя часы тость поурувъвочелм\"\n",
      "[ERR:4] \"толко однѣмѣ борствором\" -> \"толко однѣ мѣбествором\"\n",
      "[ERR:1] \"+\" -> \"1\"\n",
      "[OK] \"в дополнъку в померанию послат три полка\" -> \"в дополнъку в померанию послат три полка\"\n",
      "[ERR:1] \"пости от реки не iмѣетъ] а замокъ потшит\" -> \"пости отреки не iмѣетъ] а замокъ потшит\"\n",
      "[ERR:1] \"ли когда понадабитца чтоб\" -> \"ли когда по надабитца чтоб\"\n",
      "[OK] \"к м что ежели непъ\" -> \"к м что ежели непъ\"\n",
      "[OK] \"ние сут для тишины iм\" -> \"ние сут для тишины iм\"\n",
      "[OK] \"причины к войнѣ\" -> \"причины к войнѣ\"\n",
      "[ERR:1] \"о сем послан указ къ ф м\" -> \"о сем послан указ фъ ф м\"\n",
      "[OK] \"но хотя б зело силен непъриятел был\" -> \"но хотя б зело силен непъриятел был\"\n",
      "[ERR:3] \"дня будем якор бросат у александровой крѣ\" -> \"дня будем якорбросат у алеѣандровой крѣ\"\n",
      "[ERR:2] \"компаниi чтоб зимою морем iтит i то та\" -> \"компаниi чтоб зимою морем iтит то та\"\n",
      "[OK] \"тавълен былъ\" -> \"тавълен былъ\"\n",
      "[ERR:1] \"ца может також старайся ка\" -> \"ца может також старайсяка\"\n",
      "[ERR:2] \"по обеим канцам\" -> \"по обѣiм канцам\"\n",
      "[OK] \"3\" -> \"3\"\n",
      "[OK] \"для iх склонности i то учинено будет по се\" -> \"для iх склонности i то учинено будет по се\"\n",
      "[OK] \"хотя оная нам не нужда вовъсе удер\" -> \"хотя оная нам не нужда вовъсе удер\"\n",
      "[ERR:1] \"а когда не iмѣем нужда оных флатироват\" -> \"а когда не iмѣем нужда оным флатироват\"\n",
      "[ERR:1] \"жели хто пощадит тот сам тою каз\" -> \"жели хто пощадит тот сам тою кай\"\n",
      "[OK] \"въ 2 д декабря 1712\" -> \"въ 2 д декабря 1712\"\n",
      "[OK] \"сестры\" -> \"сестры\"\n",
      "[ERR:3] \"а переход наш богу iзволшу кончае заф\" -> \"а переходнаш богу iз волшу кончаезаф\"\n",
      "[ERR:1] \"iли столяроф\" -> \"iли столягоф\"\n",
      "[OK] \"400\" -> \"400\"\n",
      "[ERR:1] \"толко до тѣх мѣстъ не отда\" -> \"толко до тѣх мѣсть не отда\"\n",
      "[ERR:1] \"наступат i оного по возмож\" -> \"наступат i оного повозмож\"\n",
      "[ERR:3] \"болот рѣкъ i протчих крепостей трудно будет\" -> \"болотрѣкъ i протчих крепостей тродно будот\"\n",
      "[ERR:2] \"милость которую господин адмирал в 6 д сего ж мѣсеца\" -> \"милость которую госкодин адмирал в 6 д сегож мѣсеца\"\n",
      "[ERR:1] \"паки к нему г ад своего присылал\" -> \"паки к нему г а д своего присылал\"\n",
      "[ERR:1] \"королефского в как удобнѣе\" -> \"королеф ского в как удобнѣе\"\n",
      "[ERR:2] \"ку указ есть в наших\" -> \"ку указ есть в нашиис\"\n",
      "[ERR:2] \"озчивая мѣсто куды пойдет\" -> \"озчива ямѣсто куды пойдет\"\n",
      "[OK] \"тавят алтиллерию i потом на оных\" -> \"тавят алтиллерию i потом на оных\"\n",
      "[ERR:1] \"iли iзволте дѣлат iли каму\" -> \"iхи iзволте дѣлат iли каму\"\n",
      "[ERR:7] \"медлил на оные отвѣ i тѣм бы времени не потерял\" -> \"медлил н а он еобѣ i тѣм бы времени не потелят\"\n",
      "[ERR:4] \"завтрее чрез днестръ пойдем\" -> \"за втре чретз днестръ пойдемй\"\n",
      "[OK] \"сеца\" -> \"сеца\"\n",
      "[ERR:2] \"iбо почал отступат i жечь i зжегъ\" -> \"iбо почал отступат i жечь iз жегъ\"\n",
      "[ERR:1] \"пищеш ты якобы для лекарства\" -> \"пишеш ты якобы для лекарства\"\n",
      "[ERR:2] \"кая починка которому неболшая\" -> \"кая починка которому не болшаия\"\n",
      "[OK] \"ских грамотных для того ж\" -> \"ских грамотных для того ж\"\n",
      "[ERR:1] \"но в первых iли о половинѣ будущаго\" -> \"но в первых iли о половинѣ будущуго\"\n",
      "[ERR:2] \"до абова дойдем то шведы принужде\" -> \"до абовадой дем то шведы принужде\"\n",
      "[ERR:1] \"старание приложит iмѣет також\" -> \"старание приложит iмѣет тако\"\n",
      "[OK] \"того для лутче тѣм поспѣшит ко\" -> \"того для лутче тѣм поспѣшит ко\"\n",
      "[OK] \"к послам писанныя\" -> \"к послам писанныя\"\n",
      "[OK] \"заранее упърепит а что к тому надобно\" -> \"заранее упърепит а что к тому надобно\"\n",
      "[ERR:1] \"с водяная мѣлница\" -> \"с въдяная мѣлница\"\n",
      "[ERR:2] \"ла о елзенфорсе [которую прилагаю при сем]\" -> \"ла о елзенфорсе [которую прилогаю присем]\"\n",
      "[ERR:5] \"нечаева + [понеже нѣжин у вас будет за с\" -> \"не чаева+ [понеже нѣжлин у вас буде зас\"\n",
      "[ERR:2] \"жиею соверша дѣла быт к вам конеч\" -> \"жиею соверша дѣла быт к вам колнен\"\n",
      "[ERR:3] \"со въсѣми окрисностями во оных пи\" -> \"со въсѣми окрисностя мивооных пи\"\n",
      "[ERR:3] \"словѣ о удержаниi транпор\" -> \"словѣ су держаниi транпор\"\n",
      "[ERR:4] \"о зело обидном состаяниi нашего трупа при страл\" -> \"о зело обидном состая ниi наше готрупа пристрал\"\n",
      "[ERR:2] \"же резиденцию вам iмѣт в питербурхѣ\" -> \"жере зиденцию вам iмѣт в питербурхѣ\"\n",
      "[ERR:3] \"iли въ первых чiслѣх февъраля буду\" -> \"iли въ первых теслѣ февъраля буду\"\n",
      "[ERR:1] \"пус оставит буде\" -> \"пус остаовит буде\"\n",
      "[ERR:2] \"iзволте толко обождат до 9 iли 10 iюля а буде не пос\" -> \"iзволте толко обождат д0 9 iли 10 8юля а буде не пос\"\n",
      "[ERR:1] \"могу слѣдовать + i тако прошу\" -> \"могу слѣдоват + i тако прошу\"\n",
      "[ERR:3] \"жет iз таго быт прибыл тож смотрѣт правѣдат\" -> \"жет iз таго бын прибыл тож стетрѣт правѣдат\"\n",
      "[ERR:3] \"по фокарюстъ\" -> \"пофо карюсть\"\n",
      "[ERR:1] \"тел пойдет около озе\" -> \"тел пойдет около о зе\"\n",
      "[ERR:2] \"в межиходѣ в трех милях от бран\" -> \"в межихо дѣ в тре милях от бран\"\n",
      "[OK] \"даны нынѣ\" -> \"даны нынѣ\"\n",
      "[ERR:2] \"ки сюды дворянина головънина [с ко\" -> \"ки сюды дворя нина головънина [ско\"\n",
      "[OK] \"пропали\" -> \"пропали\"\n",
      "[ERR:3] \"дут iз финландиi то iм опас\" -> \"дут iзфинландиi тоiм опад\"\n",
      "[ERR:1] \"равъда i можешь iх величес\" -> \"равъда i можешу iх величес\"\n",
      "[ERR:1] \"а о саксонцах не помя\" -> \"а осаксонцах не помя\"\n",
      "[ERR:1] \"лагат по сему\" -> \"лагат посему\"\n",
      "[ERR:3] \"сохли а я слышал что нынешнево году не рубили i та\" -> \"сохли а я слышал что нынеш невогоду не рубили iта\"\n",
      "[ERR:5] \"приказывал я к тебѣ с шепелевым чтоб\" -> \"приказывал я ктебѣсшепелеым что\"\n",
      "[OK] \"с франциею обязалис протиф\" -> \"с франциею обязалис протиф\"\n",
      "[ERR:2] \"тором iз сих мѣстъ iзволят о боурѣ получили мы вѣ\" -> \"тором iз сих мѣсть iзволят обоурѣ получили мы вѣ\"\n",
      "[OK] \"четы карабли дѣлат iли i зачаты да\" -> \"четы карабли дѣлат iли i зачаты да\"\n",
      "[ERR:3] \"зѣло нужен iбо погибелок новогородских бое\" -> \"зѣлонужен iбо погибелок новогород скихбое\"\n",
      "[OK] \"шлете то взысконо будет на вас\" -> \"шлете то взысконо будет на вас\"\n",
      "[ERR:3] \"(+ iзволте все без описки чинит\" -> \"( iзволте все без сопискичинит\"\n",
      "[ERR:1] \"також чтоб дали въ том гарантироф а iменно прус\" -> \"такол чтоб дали въ том гарантироф а iменно прус\"\n",
      "[ERR:1] \"жело жит iбо я левъщею не умѣя въ\" -> \"жело жит iбо я левъщею не умѣю въ\"\n",
      "[ERR:6] \"з другой но сие не точию от а\" -> \"з дрогой носе не точию ба\"\n",
      "[ERR:2] \"понеже семенофской полкъ шел iз кур\" -> \"понеже семенофсккой полкъшел iз кур\"\n",
      "[ERR:5] \"судами сквоз шхеры до ар\" -> \"судами с к возшхеры даар\"\n",
      "[ERR:2] \"ляем а къ i то дастаем\" -> \"ляем ако i то дастаем\"\n",
      "[ERR:1] \"лѣно удержеват\" -> \"лѣно удерже ват\"\n",
      "[ERR:2] \"[куды мнѣ совѣтовали] прика\" -> \"[куды мнѣ ловѣтрвали] прика\"\n",
      "[ERR:7] \"какорами набиват старыми кана\" -> \"какобами пажи ват ставысеми кана\"\n",
      "[ERR:2] \"к ва\" -> \"квя\"\n",
      "[ERR:1] \"аднакож могло бы i то\" -> \"аднакож моглобы i то\"\n",
      "[ERR:1] \"5\" -> \"я\"\n",
      "[ERR:2] \"iзволилъ\" -> \"iз волил\"\n",
      "[OK] \"величества алтиллериi 6 12 i 6 6\" -> \"величества алтиллериi 6 12 i 6 6\"\n",
      "[ERR:2] \"[как iменем королевъским\" -> \"[как i менем короревъским\"\n",
      "[OK] \"зело жал что вес союз разрушит\" -> \"зело жал что вес союз разрушит\"\n",
      "[ERR:2] \"i ежели не будет вашему строению\" -> \"i еели не будет вашемустроению\"\n",
      "[ERR:3] \"зунтѣ обрѣтаюшегося хотя я уже многожды\" -> \"зуннѣ обрѣтаюшегося хотяя уже много жды\"\n",
      "[OK] \"да завъладѣт не намѣре\" -> \"да завъладѣт не намѣре\"\n",
      "[OK] \"дешевъле можете сыскат а нам оной\" -> \"дешевъле можете сыскат а нам оной\"\n",
      "[OK] \"ево склонность к тому то\" -> \"ево склонность к тому то\"\n",
      "[OK] \"вырасумления людем а портикуляр\" -> \"вырасумления людем а портикуляр\"\n",
      "[ERR:2] \"новых наших непъриятелей хот\" -> \"новых наших непъриятелей хтто\"\n",
      "[ERR:4] \"пълету держат баталиос на москвѣ\" -> \"пълетiу держат батали осна москвя\"\n",
      "[ERR:2] \"матка здрафъствуй\" -> \"маткат драфъствуй\"\n",
      "[ERR:6] \"щего (+ iже воздастъ комуж\" -> \"щего о i же воздасстъкому ж\"\n",
      "[ERR:2] \"не скоро войски наши вышли а для чего то уже\" -> \"нескоро войски наш вышли а для чего то уже\"\n",
      "[ERR:1] \"такожъ въ iх содержан\" -> \"такожъ въ iх содежан\"\n",
      "[ERR:3] \"нужны а на новых еще друзей голстинцоф\" -> \"нужны а на новых ена дру зей голстинцоф\"\n",
      "[ERR:1] \"чтоб провиантъ былъ саксонской\" -> \"чтоб проваантъ былъ саксонской\"\n",
      "[OK] \"держано будет\" -> \"держано будет\"\n",
      "[ERR:6] \"но] сие бомбардированя учинит\" -> \"но] с ткбом барировая учинит\"\n",
      "[OK] \"господа сенат\" -> \"господа сенат\"\n",
      "[ERR:2] \"i при\" -> \"+т при\"\n",
      "[ERR:2] \"да уже под бостиона\" -> \"да уже подбости она\"\n",
      "[ERR:3] \"на 2ю невозможно прежде бытия в карсъбат тово у\" -> \"на iю невозможно преждебытия в карсъбат товоу\"\n",
      "[ERR:1] \"скую службу на галѣры ж та\" -> \"ккую службу на галѣры ж та\"\n",
      "[OK] \"вѣкъ iли полтараста iс которых\" -> \"вѣкъ iли полтараста iс которых\"\n",
      "[ERR:2] \"в гузомѣ говорил что окрѣсностию что\" -> \"вгузомѣ говорил что окрѣдностию что\"\n",
      "[ERR:2] \"лию ежели непъриятел похочет також\" -> \"лию ежели непъриятел похочет i також\"\n",
      "[ERR:2] \"тепска под ригу\" -> \"тепска по дригу\"\n",
      "[OK] \"+\" -> \"+\"\n",
      "[OK] \"ныя от крайнего упатку\" -> \"ныя от крайнего упатку\"\n",
      "[ERR:36] \"+ то есть с понеделника на офъторникъ\" -> \"(+ \"\n",
      "[ERR:1] \"салдаты i пушкари которыя вѣдомы от го\" -> \"салдаты i пушкари которыя вѣдомы отго\"\n",
      "[ERR:4] \"по фъсѣм обстоятелствам\" -> \"по фъсѣ олбстоятелсто вам\"\n",
      "[ERR:7] \"вам придат i на сей час возмите к себѣ\" -> \"вам придат i нанечас возмитекебѣ\"\n",
      "[ERR:2] \"по самарѣ i iным рекам осмотрѣт для поселени\" -> \"по самарѣ i iны рекам осмотрѣт для по селени\"\n",
      "[ERR:1] \"ресами будет нежели iсполнят в ползу оныя\" -> \"ресами будет нежелин iсполнят в ползу оныя\"\n",
      "[OK] \"поненеже к бе\" -> \"поненеже к бе\"\n",
      "[OK] \"с порохом\" -> \"с порохом\"\n",
      "[ERR:2] \"го же дому кие будут пред\" -> \"гоже домукие будут пред\"\n",
      "[ERR:2] \"сторон болшова канала а\" -> \"сторон болшава канала я\"\n",
      "[ERR:2] \"над соединенною дабы\" -> \"надсоединенною  абы\"\n",
      "[ERR:3] \"с вышепомянутым\" -> \"с в выше помянутым\"\n",
      "[ERR:1] \"обявъляю вам что сего дня намѣ\" -> \"обявъляю вам что сего дня нанѣ\"\n",
      "[OK] \"петръ\" -> \"петръ\"\n",
      "[ERR:1] \"ские в шонон войдут тогда\" -> \"сие в шонон войдут тогда\"\n",
      "[ERR:5] \"сию компанию едва несравънителну прошлой даро\" -> \"смю компанинию едва нествънителну прошлой даро\"\n",
      "[ERR:5] \"далголмъ амуницию пос\" -> \"дал гомъ амуницию iт пос\"\n",
      "[ERR:3] \"ремени принуждены покинут пока паки\" -> \"реме ни принуждены покинут покапаке\"\n",
      "[ERR:2] \"да будет послушен\" -> \"да будетт послущен\"\n",
      "[ERR:2] \"будет толко зело с неудоволством слышим\" -> \"будет толко дело с не удоволством слышим\"\n",
      "[ERR:1] \"румянцоф к нам приѣхал i о мирѣ обявилъ\" -> \"румянцоф к нам приѣхал i омирѣ обявилъ\"\n",
      "[ERR:3] \"побей челом кнес папѣ чтоб с тобою\" -> \"побей челом к неспапѣ чтоб стобою\"\n",
      "[ERR:15] \"60 iли 66 пушках i для того надлежит сим лѣтом i осеню в дос\" -> \"ычиыкушках i для того надлежи сисмлѣто i осеню вдос\"\n",
      "[ERR:2] \"факцию турки i здѣлали\" -> \"факцию турки iз дѣлали\"\n",
      "[OK] \"3\" -> \"3\"\n",
      "[ERR:6] \"в сих днях писал брат ваш цесарское ве\" -> \"в сих дних писал страт вашце сарскоеве\"\n",
      "[ERR:2] \"без вышнего указу\" -> \"без вышнегеуказу\"\n",
      "[ERR:5] \"по ся поры ни одного не присыла\" -> \"пося порыниодного пеприсыла\"\n",
      "[OK] \"понеже алтиллериi нынѣ доволно\" -> \"понеже алтиллериi нынѣ доволно\"\n",
      "[OK] \"так быт ка оныя есть\" -> \"так быт ка оныя есть\"\n",
      "[ERR:2] \"здѣ прилагаетца нѣкоторое о них\" -> \"здѣ прилагаетца нѣ которое оних\"\n",
      "[OK] \"не могли того ради взяли резелюци\" -> \"не могли того ради взяли резелюци\"\n",
      "[ERR:2] \"отвѣтстъвуюм сто\" -> \"отвѣтствую сто\"\n",
      "[ERR:2] \"досок по два боутца iли по три добрых гвоздя\" -> \"досок подва боутца iли потри добрых гвоздя\"\n",
      "[ERR:2] \"та не может при\" -> \"тане може при\"\n",
      "[ERR:2] \"рому въремени надобно мы iмѣем въ эл\" -> \"рому въремени надобно мы iмѣем в ътэл\"\n",
      "[ERR:3] \"не так как толкуют [хто же сему вина что\" -> \"не так как толкую [ттоже сему вина что\"\n",
      "[OK] \"каго края паки оных посылат\" -> \"каго края паки оных посылат\"\n",
      "[ERR:2] \"синявину писанное видѣлъ\" -> \"синя вину писанно е видѣлъ\"\n",
      "[ERR:1] \"по первой травѣ в прочем надѣемся\" -> \"попервой травѣ в прочем надѣемся\"\n",
      "[ERR:5] \"празником (+ також возми с собою i афицероф\" -> \"празнико о також возми собою i афицероф\"\n",
      "[ERR:2] \"ца iли б выручки от кого дождат\" -> \"ца iли б выручки откого до ждат\"\n",
      "[ERR:3] \"отвѣтствую что к губернатором азоф\" -> \"отвѣтствую что к губернатором авго\"\n",
      "[ERR:9] \"правъда въ 18 лѣт + первою на\" -> \"правъда въ 1улѣт перъюто\"\n",
      "[ERR:2] \"ц i г точию яко пъ\" -> \"ц i г точию якопѣ\"\n",
      "[ERR:1] \"тоф i судоф чтоб при первом вскрытиi воды\" -> \"тоф i судоф чтоб при первом вскрытиiводы\"\n",
      "[ERR:7] \"i другихъ дѣлъ до зимы\" -> \"iдру гильдѣлю дозимы\"\n",
      "[ERR:7] \"остермана ежели великой нужды не iмѣете изволте\" -> \"остермана ежели аликой нужды не iлъете i волти\"\n",
      "[OK] \"хором прокопон\" -> \"хором прокопон\"\n",
      "[ERR:4] \"в послѣдних числѣхъ генваря буде ра\" -> \"в послѣдних числѣхъ генраря будерес\"\n",
      "[ERR:1] \"ства померанские i сие толко комедия\" -> \"ства померанские i сие толко ко медия\"\n",
      "[ERR:1] \"петръ\" -> \"потръ\"\n",
      "[ERR:4] \"ло в котором пишете о жаловане также\" -> \"ло в котором пишете ожалаване так еже\"\n",
      "[ERR:3] \"лажу покинут жал вчерашнего дни с утра i за\" -> \"лаожу покинут ал вчерашнего дни сутра i за\"\n",
      "[ERR:2] \"i коi надежней поля\" -> \"iко i надежней поля\"\n",
      "[OK] \"будет к померанской войнѣ того\" -> \"будет к померанской войнѣ того\"\n",
      "[ERR:4] \"при нем коннице двум дивизиям янусовой\" -> \"принем коннице двумдивизиям пну совой\"\n",
      "[ERR:3] \"вал iбо i послѣдней город ревель генералу лейтенанту\" -> \"вал iбо i послѣдней город ревелъ генералу лей тнанту\"\n",
      "[ERR:6] \"пасть к флоту непърия\" -> \"пастъ к флопоминерърия\"\n",
      "[ERR:1] \"маршу зело томны а когда придут к го\" -> \"моршу зело томны а когда придут к го\"\n",
      "[OK] \"не въсѣ были а iменно в нижней полубѣ толко\" -> \"не въсѣ были а iменно в нижней полубѣ толко\"\n",
      "[ERR:1] \"а ежели отчего боже сохрани попадет\" -> \"а ежели отчего боже сохрани по падет\"\n",
      "[ERR:6] \"нил i чтоб в конце авъгуста къромѣ кромѣ\" -> \"нил i чтоб в конце а въ густакоралѣ кромѣ\"\n",
      "[ERR:3] \"сикундоват задним\" -> \"шкундовет задним\"\n",
      "[ERR:8] \"нам подлинно знат i не опустит дѣлат iли iтит вон так\" -> \"нам подлинноэнат i не опустинт дѣлат i листит вонак\"\n",
      "[ERR:3] \"о фълотѣ нашем надежды + не iмѣйтѣ iбо еще\" -> \"о фълотѣ нашем надеждыд не iмѣй тѣ iбо еще\"\n",
      "[ERR:3] \"добстфъ чрер реку комоникацию учинит\" -> \"добствъ чрерреку комоникацию учини\"\n",
      "[OK] \"17\" -> \"17\"\n",
      "[ERR:1] \"зон выпустит по послѣ\" -> \"зон выпустит но послѣ\"\n",
      "[OK] \"вина француского самого доброго\" -> \"вина француского самого доброго\"\n",
      "[ERR:1] \"ца в слобоцкие городы i писат\" -> \"ца в слобоцки е городы i писат\"\n",
      "[OK] \"2\" -> \"2\"\n",
      "[ERR:1] \"дет понеже не к в\" -> \"дет пънеже не к в\"\n",
      "[ERR:1] \"мы зело удивъляемся вашему\" -> \"мы зело удивъляемсявашему\"\n",
      "[ERR:3] \"товит на оных а когда\" -> \"товит нароых а когде\"\n",
      "[OK] \"2\" -> \"2\"\n",
      "[OK] \"5\" -> \"5\"\n",
      "[OK] \"ны а потом мы iх от\" -> \"ны а потом мы iх от\"\n",
      "[ERR:2] \"iтить с полками к штетину\" -> \"1тть с полками к штетину\"\n",
      "[OK] \"указ что дѣлат в сей короткой час для\" -> \"указ что дѣлат в сей короткой час для\"\n",
      "[ERR:2] \"паки с королем iмѣли комференцию на ко\" -> \"паки с королем i мѣли комференцию нако\"\n",
      "[ERR:4] \"i крылѣ iмѣли то б чрез оную жъ\" -> \"i крылѣ iмѣли тоб чрез омую чь\"\n",
      "[ERR:2] \"жены того ради\" -> \"желеы того ради\"\n",
      "[ERR:2] \"в состояниi вездѣ\" -> \"в состояниi веде\"\n",
      "[ERR:4] \"конечно въсю iз шлезiвика так\" -> \"конечно въсю iзшлез i викатак\"\n",
      "[ERR:4] \"но нынѣ в голстиндиi дѣла слава богу так добро\" -> \"ненынѣ в гостиндиi дѣла слава богу так добо\"\n",
      "[ERR:6] \"полъшеста того ради не могут от\" -> \"полъшерта ткого ради не могбо\"\n",
      "[ERR:2] \"какъ\" -> \"ккак\"\n",
      "[ERR:4] \"рпарционы на укърайнѣ дават по раз\" -> \"фарционы на укърайнѣдават пораз\"\n",
      "[ERR:1] \"а далее сухим путем нѣ\" -> \"а далее сухим путемнѣ\"\n",
      "[ERR:1] \"риятеля подождат iзволил дабы наши пол\" -> \"риятеля подождат iзволил дабы нашит пол\"\n",
      "[ERR:1] \"в свѣю отпустят (+\" -> \"всвѣю отпустят (+\"\n",
      "[OK] \"то библиотеку выпъросит\" -> \"то библиотеку выпъросит\"\n",
      "[OK] \"лареi чтоб потом\" -> \"лареi чтоб потом\"\n",
      "[ERR:1] \"i жаловане при пол\" -> \"i жаловасе при пол\"\n",
      "[ERR:5] \"писмо ваше чрез михеля получил на которое отвѣт\" -> \"писмо ваше чрез мижели получил на котурое отбот\"\n",
      "[ERR:4] \"покинуф побѣжал\" -> \"покиноф побѣвохал\"\n",
      "[ERR:1] \"iли буде непъря\" -> \"iля буде непъря\"\n",
      "[OK] \"ланы были для работных людей\" -> \"ланы были для работных людей\"\n",
      "[ERR:1] \"то солгал\" -> \"то солпал\"\n",
      "[ERR:4] \"по заключениi сего окорта\" -> \"позаключениi сеу о корта\"\n",
      "[OK] \"оным дымом ушелъ\" -> \"оным дымом ушелъ\"\n",
      "[OK] \"мы к вам особливое писмо о iх же дѣлѣ\" -> \"мы к вам особливое писмо о iх же дѣлѣ\"\n",
      "[ERR:2] \"к пожелаемому миру\" -> \"к пожелае мому меру\"\n",
      "[ERR:4] \"[iбо работа там зело пълоха нѣ на чем возит]\" -> \"[iбо работатам зело пълоханѣ на чем возию\"\n",
      "[ERR:1] \"зборы которыя берутца въ ратушу для\" -> \"зборы которыя берутца въратушу для\"\n",
      "[ERR:6] \"дѣйствоват\" -> \"дем оонат\"\n",
      "[OK] \"дабы тѣм всякое опасение\" -> \"дабы тѣм всякое опасение\"\n",
      "[OK] \"3\" -> \"3\"\n",
      "[OK] \"господа сенат\" -> \"господа сенат\"\n",
      "[ERR:2] \"iх ворофъство опровергнут тол\" -> \"i ворофъство опговергнут тол\"\n",
      "[OK] \"(+ при въступлениi нашем\" -> \"(+ при въступлениi нашем\"\n",
      "[ERR:3] \"вда долго ждали да прямова мира\" -> \"вда долгождали да прямовами ра\"\n",
      "[ERR:1] \"ком случае а еже\" -> \"ком случое а еже\"\n",
      "[ERR:1] \"к чему въ первых надлежит\" -> \"к чаму въ первых надлежит\"\n",
      "[ERR:5] \"будущим i векселям немедленно iзполнят\" -> \"будушим о векселям немедленно iз поняс\"\n",
      "[OK] \"2\" -> \"2\"\n",
      "[ERR:2] \"i ше\" -> \"iеее\"\n",
      "[ERR:3] \"поiску с помощию божиею\" -> \"по i ску спомощию божиею\"\n",
      "[OK] \"новат нелзя\" -> \"новат нелзя\"\n",
      "[ERR:2] \"iбо i лос здѣс обявил бутто о турках\" -> \"iбо iлос здѣс обявил буто о турках\"\n",
      "[OK] \"господин потканслѣръ\" -> \"господин потканслѣръ\"\n",
      "[OK] \"i тако к в ни откул непъ\" -> \"i тако к в ни откул непъ\"\n",
      "[OK] \"i понеже нынѣ ревелская посылъка\" -> \"i понеже нынѣ ревелская посылъка\"\n",
      "[OK] \"ны а для воды возможно послат несколко\" -> \"ны а для воды возможно послат несколко\"\n",
      "[ERR:3] \"рига i эсперанция на мели были то однакож\" -> \"рига i эеперанция намели были то однакол\"\n",
      "[ERR:3] \"стеру i оттол [буде трудно бу\" -> \"ятеру iот тол [буде трудно бу\"\n",
      "[ERR:29] \"риятель с армѣею достич не мог\" -> \"+ \"\n",
      "[ERR:5] \"трактам для чего я вчерас капитана сиверса с о\" -> \"трактам для чго я вчерас осапитане сиверса со\"\n",
      "[OK] \"более не дѣлат я сказал что я ни\" -> \"более не дѣлат я сказал что я ни\"\n",
      "[OK] \"2\" -> \"2\"\n",
      "[OK] \"лу непъриятеля отако\" -> \"лу непъриятеля отако\"\n",
      "[ERR:8] \"я в великом удивълениi i в печалю у есть\" -> \"я е великом удивълениемх iтчалю у есть\"\n",
      "[ERR:2] \"господин амбасадер\" -> \"господин л басадер\"\n",
      "[ERR:3] \"пра\" -> \"бъъ\"\n",
      "[OK] \"на оной же б садитца что же о выво\" -> \"на оной же б садитца что же о выво\"\n",
      "[ERR:2] \"конечно пойдем к стралзун\" -> \"конечно пойде кстралзун\"\n",
      "[ERR:4] \"i когда о том наш м провѣдаф стал королю гаворит\" -> \"i кода о том наш м провѣдаф стал королюговобит\"\n",
      "[ERR:1] \"что ты указ iмѣешь все в ползу ево дѣлат\" -> \"что ты указ iмѣешь все в пролзу ево дѣлат\"\n",
      "[ERR:10] \"принциар фискалоф у каждого дѣла по одному которыя еще\" -> \"пчнафискалоф укаж дого дѣла по одну которыя еще\"\n",
      "[ERR:3] \"iз торнъ въ 1 д сентерря 1711\" -> \"iзторнъ въ 1 д сентеррях +711\"\n",
      "[ERR:2] \"нешнею осеню вырубит а зимою вы\" -> \"нешнею отею вырубит а зимою вы\"\n",
      "[ERR:6] \"провин княжство овъладѣли а непъри\" -> \"пиловин к няж сдиво овъладѣли а непъри\"\n",
      "[ERR:2] \"iз кросена октебря вѣрныi друг i брат\" -> \"iз кросена октебря вѣрныi вруж i брат\"\n",
      "[ERR:6] \"по том отступълениi на третей дѣн прибылъ\" -> \"потом отступълениi на тротрден прибылъ\"\n",
      "[OK] \"i тако сие обявя вашему величеству оным поздравъ\" -> \"i тако сие обявя вашему величеству оным поздравъ\"\n",
      "[OK] \"в котором вы пишете о запо\" -> \"в котором вы пишете о запо\"\n",
      "[ERR:2] \"i караблей i так а выслат сих лутче сухим\" -> \"i караблей i ток а выслат сих лутчесухим\"\n",
      "[ERR:2] \"домость которого вскорѣ ожидаем\" -> \"домоть которого всксорѣ ожидаем\"\n",
      "[ERR:8] \"купъно с но\" -> \"ку твешо\"\n",
      "[ERR:2] \"най развѣ онѣ зачнут дабы iх тѣм не въздорожит\" -> \"най развѣ онѣ закнут дабы iх тѣм не въ здорожит\"\n",
      "[OK] \"1\" -> \"1\"\n",
      "[ERR:2] \"i лутче б оной iмѣт прежъде\" -> \"i лутчеб оной iмѣт прежвде\"\n",
      "[ERR:1] \"оной ломат i тѣм пъротчие починеват\" -> \"оной ломят i тѣм пъротчие починеват\"\n",
      "[OK] \"+\" -> \"+\"\n",
      "[OK] \"того ради предлажите iм та\" -> \"того ради предлажите iм та\"\n",
      "[OK] \"до пятницы которого дня ра\" -> \"до пятницы которого дня ра\"\n",
      "[ERR:2] \"знет трудно оного держат того для по\" -> \"онет терудно оного держат того для по\"\n",
      "[OK] \"лѣса iли iныя крѣпости\" -> \"лѣса iли iныя крѣпости\"\n",
      "[ERR:8] \"возих в воли к в кам оной\" -> \"вочих в волешекал оной\"\n",
      "[ERR:5] \"чина что ежели гдѣ мѣшкат\" -> \"чина чн ежели гдѣ мѣша г\"\n",
      "[ERR:2] \"меня зело опечалили для слабых там пос\" -> \"меня зело опечотлили для слабых там пос\"\n",
      "[ERR:2] \"лежашей пут чрез швед полшею недалеко от бран\" -> \"лежашей пот чрез швед полшею не далеко от бран\"\n",
      "[ERR:2] \"стах iзготовит каналами i сюдерзеем а на сюдер\" -> \"стах iзготобит каналами i сюдерзеем а насюдер\"\n",
      "[OK] \"доват буду о чем пространнее\" -> \"доват буду о чем пространнее\"\n",
      "[ERR:2] \"но была чтоб времени не потерят\" -> \"но была что в ремени не потерят\"\n",
      "[ERR:4] \"указ iмѣете чтоб эбинскую алтиллерию отпровадит\" -> \"указ iмѣеть чтоб эбинскую алтиллерию отпровяд\"\n",
      "[ERR:1] \"дали чтоб по окончаниi рады вам\" -> \"дали чтоб по окончениi рады вам\"\n",
      "[ERR:1] \"куды удобнѣе нам ѣхат там велите\" -> \"куды удобнѣе нам ѣхан там велите\"\n",
      "[ERR:1] \"а что о моем быте к вам iстинно б рад\" -> \"а что о моем быте к вам iстинно брад\"\n",
      "[ERR:3] \"послушанъ такъ же о нѣкото\" -> \"послушанъ такъже онѣко то\"\n",
      "[OK] \"ежели же к в сам своiм\" -> \"ежели же к в сам своiм\"\n",
      "[ERR:1] \"i ежели на той сторонѣ\" -> \"i еожели на той сторонѣ\"\n",
      "[OK] \"сей двор не толко помѣскою но i помощию\" -> \"сей двор не толко помѣскою но i помощию\"\n",
      "[OK] \"добно к тому i\" -> \"добно к тому i\"\n",
      "[OK] \"кое число как вы пишете от 5 до 6\" -> \"кое число как вы пишете от 5 до 6\"\n",
      "[ERR:4] \"ми войны а не у себя також i о персоналной моей ѣздѣ\" -> \"мивойны а не усебят також i оперсоналной моей ѣздѣ\"\n",
      "[ERR:1] \"том же б обнадежили что\" -> \"то же б обнадежили что\"\n",
      "[ERR:1] \"чтоб вы подредили в полше ду\" -> \"чтоб вы подредили в полшеду\"\n",
      "[OK] \"ку а к нашей ползѣ надлежит все то\" -> \"ку а к нашей ползѣ надлежит все то\"\n",
      "[ERR:1] \"дни приѣхал сюды отютантъ\" -> \"дни приѣхал сюды отютаннъ\"\n",
      "[OK] \"5\" -> \"5\"\n",
      "[OK] \"мом готорвъским в котором а i\" -> \"мом готорвъским в котором а i\"\n",
      "[ERR:2] \"i никакова дѣла без оных не дѣлат також лантъ\" -> \"i никакова дѣла без оных недѣла також лантъ\"\n",
      "[ERR:2] \"i гдѣ чрез реки сорть i трен пере\" -> \"i гдѣ чрез реки собртъ i трен пере\"\n",
      "[OK] \"1\" -> \"1\"\n",
      "[ERR:5] \"от воды бог дастъ доброе посылаю при\" -> \"отводы богдасть доброе посыхаею при\"\n",
      "[ERR:1] \"жениi приналежит\" -> \"жениi приналежин\"\n",
      "[OK] \"кой дѣлает iхъ\" -> \"кой дѣлает iхъ\"\n",
      "[ERR:1] \"разрыват i роф наполнит\" -> \"разрыват iроф наполнит\"\n",
      "[OK] \"10\" -> \"10\"\n",
      "[OK] \"трациi что к шведской дипълом прислал\" -> \"трациi что к шведской дипълом прислал\"\n",
      "[ERR:4] \"а снаружи фашинами ж з землею також\" -> \"а с наружи фашинамиж зз емлею також\"\n",
      "[ERR:4] \"обявил мнѣ милость государя нашего\" -> \"обявид мнѣ милостъ госуѣ даря нашего\"\n",
      "[ERR:2] \"к первому и въторому\" -> \"к первому i въ торому\"\n",
      "[ERR:2] \"воритца i опъределит добрым средством о бреме\" -> \"воритца i опъредели добрым средством обреме\"\n",
      "[ERR:1] \"въ 4 iли 5 то учинилос\" -> \"въ 4 iли 8 то учинилос\"\n",
      "[OK] \"2\" -> \"2\"\n",
      "[ERR:6] \"шками болше такъже сверхъ\" -> \"шками болс ткакъ е сдерхч\"\n",
      "[ERR:1] \"можно то б хотя болшую часть\" -> \"можно то б хотя бошую часть\"\n",
      "[ERR:1] \"не iмѣю i дѣлаю толко для них iстин\" -> \"не iмѣю i дѣлаю толко дляних iстин\"\n",
      "[ERR:3] \"шали [как i прежде к вам писано] i проч без позво\" -> \"шали [как i прежде к вам тисано] i прочбе позво\"\n",
      "[OK] \"пъриятеля отнята i кор\" -> \"пъриятеля отнята i кор\"\n",
      "[ERR:3] \"о гварнизонѣ в тонингъ то б не наших i саксоф то б\" -> \"о гварнизонѣ в тонинго тобне наших i саксоф то б\"\n",
      "[ERR:2] \"клоу цыфирю\" -> \"шлоуцыфирю\"\n",
      "[ERR:1] \"30 руских брегантин\" -> \"з0 руских брегантин\"\n",
      "[ERR:4] \"зяты сюды а ты съ тѣм баталионом\" -> \"зя ты беды а ты съ тѣм батали оном\"\n",
      "[ERR:7] \"кѣ присылат i i о том поговори з дру (+\" -> \"кѣ при сылат н i о том поговоризду в\"\n",
      "[ERR:2] \"iз кипиной мызы въ 15 д июля 1713 петръ\" -> \"iз кипиной мызы въ 13 д iюля 1713 петръ\"\n",
      "[ERR:3] \"держат будут\" -> \"деррву будут\"\n",
      "[ERR:1] \"вначалѣ\" -> \"в началѣ\"\n",
      "[ERR:7] \"в i его союзникоф не слу\" -> \"в тего соют ниоф неелу\"\n",
      "[ERR:1] \"чрез зунтъ то говорит чтоб\" -> \"чрез зунтъ тоговорит чтоб\"\n",
      "[OK] \"перекопу приближи\" -> \"перекопу приближи\"\n",
      "[OK] \"i негодных не было а губерней питер\" -> \"i негодных не было а губерней питер\"\n",
      "[ERR:1] \"посмо твое я получил на кото\" -> \"посмотвое я получил на кото\"\n",
      "[ERR:6] \"нашей такъ же i то надобно вам писменно iспросит\" -> \"нашой такъже i то надобно вам прменно iспролут\"\n",
      "[ERR:1] \"дѣло о чем обявит вам послан\" -> \"дѣло о чем обявит вам посланм\"\n",
      "[ERR:3] \"шему нѣ ѣхат для ученя на год что я с пе\" -> \"шему нѣѣхат для учен я на год чтто я с пе\"\n",
      "[ERR:5] \"i поднят обыкновенное свое\" -> \"i понят обы к новенноевое\"\n",
      "[ERR:2] \"твердили но когда оттол к вышепи\" -> \"твердили но когда от толк вышепи\"\n",
      "[ERR:1] \"во не буду дѣлат что къ его предосуж\" -> \"во не буду дѣлат что къ его пред осуж\"\n",
      "[ERR:3] \"от статоф учиненной i оным мы зело благо\" -> \"отстатоф учиненной i оным мы зелобла го\"\n",
      "[ERR:2] \"писмо ваше я у господина\" -> \"писма ваше я у посподина\"\n",
      "Character error rate: 8.180347%. Word error rate: 37.879226%. String accuracy: 26.645768%.\n"
     ]
    }
   ],
   "source": [
    "numCharErr = 0\n",
    "numCharTotal = 0\n",
    "numStringOK = 0\n",
    "numStringTotal = 0\n",
    "\n",
    "word_eds, word_true_lens = [], []\n",
    "\n",
    "print('Ground truth -> Recognized')\t\n",
    "for i in range(len(out)):\n",
    "    pred = ''\n",
    "    for p in out[i]:\n",
    "        if int(p) != -1:\n",
    "            pred+=letters[int(p)]\n",
    "    true = val_original_text[i]\n",
    "    \n",
    "    numStringOK += 1 if true == pred else 0\n",
    "    numStringTotal += 1\n",
    "    dist = editdistance.eval(pred, true)\n",
    "    numCharErr += dist\n",
    "    numCharTotal += len(true)\n",
    "    \n",
    "    pred_words = pred.split()\n",
    "    true_words = true.split()\n",
    "    word_eds.append(editdistance.eval(pred_words, true_words))\n",
    "    word_true_lens.append(len(true_words))\n",
    "    \n",
    "    print('[OK]' if dist==0 else '[ERR:%d]' % dist,'\"' + true + '\"', '->', '\"' + pred + '\"')\n",
    "\n",
    "charErrorRate = numCharErr / numCharTotal\n",
    "wordErrorRate = sum(word_eds) / sum(word_true_lens) \n",
    "stringAccuracy = numStringOK / numStringTotal\n",
    "print('Character error rate: %f%%. Word error rate: %f%%. String accuracy: %f%%.' % \\\n",
    "      (charErrorRate*100.0,wordErrorRate*100.0, stringAccuracy*100.0))"
   ]
  }
 ],
 "metadata": {
  "accelerator": "GPU",
  "colab": {
   "name": "HTR_USING_CRNN.ipynb",
   "provenance": []
  },
  "kernelspec": {
   "display_name": "Python 3",
   "language": "python",
   "name": "python3"
  },
  "language_info": {
   "codemirror_mode": {
    "name": "ipython",
    "version": 3
   },
   "file_extension": ".py",
   "mimetype": "text/x-python",
   "name": "python",
   "nbconvert_exporter": "python",
   "pygments_lexer": "ipython3",
   "version": "3.7.8"
  }
 },
 "nbformat": 4,
 "nbformat_minor": 4
}
